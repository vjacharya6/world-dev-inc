{
 "cells": [
  {
   "cell_type": "markdown",
   "metadata": {},
   "source": [
    "**Analyzing World Bank's** ***Health, Population and Nutrition*** **data to identify indices relevant for maternal-child survival**"
   ]
  },
  {
   "cell_type": "code",
   "execution_count": 1,
   "metadata": {},
   "outputs": [],
   "source": [
    "import numpy as np\n",
    "import pandas as pd\n",
    "import pandas_gbq as pd_gbq #integrates Pandas with Google BigQuery data warehouse's client library for Python."
   ]
  },
  {
   "cell_type": "markdown",
   "metadata": {},
   "source": [
    "Write SQL code to read series_code, topic, indicator_name and short_definition from the BigQuery data file\n",
    "*bigquery-public-data.world_bank_health_population.series_summary*:"
   ]
  },
  {
   "cell_type": "code",
   "execution_count": 2,
   "metadata": {},
   "outputs": [],
   "source": [
    "get_indicator_codes = \"\"\"\n",
    "SELECT\n",
    "    series_code, topic, indicator_name, short_definition\n",
    "FROM\n",
    "    `bigquery-public-data.world_bank_health_population.series_summary`\n",
    "\"\"\""
   ]
  },
  {
   "cell_type": "markdown",
   "metadata": {},
   "source": [
    "Perform the query and load the result to a Pandas dataframe\n",
    "(that achieves the same results as the following 3 lines of code  \n",
    "\"\"\"  \n",
    "from google.cloud import bigquery  \n",
    "client = bigquery.Client()  \n",
    "indicator_codes_data_frame = client.query(get_indicator_codes).to_dataframe()  \n",
    "\"\"\"  \n",
    "which does not use pandas_gbq):"
   ]
  },
  {
   "cell_type": "code",
   "execution_count": 3,
   "metadata": {},
   "outputs": [],
   "source": [
    "#indicator_codes_data = pd.read_gbq(get_indicator_codes,project_id='world-dev-indc')\n",
    "#indicator_codes_data.to_csv(r'./indicator_codes_data.csv')"
   ]
  },
  {
   "cell_type": "markdown",
   "metadata": {},
   "source": [
    "Read the CSV file as a dataframe:"
   ]
  },
  {
   "cell_type": "code",
   "execution_count": 4,
   "metadata": {},
   "outputs": [],
   "source": [
    "indicator_codes = pd.read_csv(\"indicator_codes_data.csv\") "
   ]
  },
  {
   "cell_type": "markdown",
   "metadata": {},
   "source": [
    "Manually scan through indicator names and descriptions and then select indicators that have a bearing on infant, child and maternal mortality:"
   ]
  },
  {
   "cell_type": "code",
   "execution_count": 5,
   "metadata": {},
   "outputs": [],
   "source": [
    "indicator_codes_select=[1,2,4,5,7,21,22,26,27,28,29,31,32,36,37,38,41,44,46,48,49,51,57,59,\n",
    "                      60,61,62,63,64,71,76,78,92,95,101,102,103,104,105,106,107,108,112,117,118,119,120,\n",
    "                      121,122,144,145,146,147,154,157,160,164,171,172,173,182,190,192,193,197,\n",
    "                      202,262,264,267,269,270,271,277,278,279,281,282,283,293,298,300,\n",
    "                      302,304,306,327,331,332,338,341,344,347,350]"
   ]
  },
  {
   "cell_type": "code",
   "execution_count": 6,
   "metadata": {},
   "outputs": [
    {
     "name": "stdout",
     "output_type": "stream",
     "text": [
      "1 SH.PRG.SYPH.ZS\n",
      "2 SH.UHC.SRVS.CV.XD\n",
      "4 SH.STA.IYCF.ZS\n"
     ]
    }
   ],
   "source": [
    "for i in [1,2,4]:\n",
    "    print(i, indicator_codes.iloc[i,1])\n",
    "    # gives the same result as print(i, indicator_codes['series_code'][i])"
   ]
  },
  {
   "cell_type": "markdown",
   "metadata": {},
   "source": [
    "Define an array with indicator codes and an array with country names for later:"
   ]
  },
  {
   "cell_type": "code",
   "execution_count": 7,
   "metadata": {},
   "outputs": [
    {
     "data": {
      "text/plain": [
       "['Serial No.',\n",
       " 'Country_Name',\n",
       " 'SH.PRG.SYPH.ZS',\n",
       " 'SH.UHC.SRVS.CV.XD',\n",
       " 'SH.STA.IYCF.ZS']"
      ]
     },
     "execution_count": 7,
     "metadata": {},
     "output_type": "execute_result"
    }
   ],
   "source": [
    "attributes = [\"Serial No.\"]\n",
    "attributes.append(\"Country_Name\") \n",
    "for i in indicator_codes_select:\n",
    "    attributes.append(indicator_codes.iloc[i,1]) \n",
    "attributes[:5]"
   ]
  },
  {
   "cell_type": "code",
   "execution_count": 8,
   "metadata": {},
   "outputs": [
    {
     "data": {
      "text/html": [
       "<div>\n",
       "<style scoped>\n",
       "    .dataframe tbody tr th:only-of-type {\n",
       "        vertical-align: middle;\n",
       "    }\n",
       "\n",
       "    .dataframe tbody tr th {\n",
       "        vertical-align: top;\n",
       "    }\n",
       "\n",
       "    .dataframe thead th {\n",
       "        text-align: right;\n",
       "    }\n",
       "</style>\n",
       "<table border=\"1\" class=\"dataframe\">\n",
       "  <thead>\n",
       "    <tr style=\"text-align: right;\">\n",
       "      <th></th>\n",
       "      <th>country_name</th>\n",
       "    </tr>\n",
       "  </thead>\n",
       "  <tbody>\n",
       "    <tr>\n",
       "      <th>0</th>\n",
       "      <td>Brunei Darussalam</td>\n",
       "    </tr>\n",
       "    <tr>\n",
       "      <th>1</th>\n",
       "      <td>Cayman Islands</td>\n",
       "    </tr>\n",
       "    <tr>\n",
       "      <th>2</th>\n",
       "      <td>Sint Maarten (Dutch part)</td>\n",
       "    </tr>\n",
       "    <tr>\n",
       "      <th>3</th>\n",
       "      <td>South Africa</td>\n",
       "    </tr>\n",
       "    <tr>\n",
       "      <th>4</th>\n",
       "      <td>Uruguay</td>\n",
       "    </tr>\n",
       "  </tbody>\n",
       "</table>\n",
       "</div>"
      ],
      "text/plain": [
       "                country_name\n",
       "0          Brunei Darussalam\n",
       "1             Cayman Islands\n",
       "2  Sint Maarten (Dutch part)\n",
       "3               South Africa\n",
       "4                    Uruguay"
      ]
     },
     "execution_count": 8,
     "metadata": {},
     "output_type": "execute_result"
    }
   ],
   "source": [
    "df = pd.read_csv(\"country_names.csv\", usecols = ['country_name'])\n",
    "df[:5]"
   ]
  },
  {
   "cell_type": "markdown",
   "metadata": {},
   "source": [
    "Write a function that returns SQL query with indicator names of given index i as search criteria. Avergage over the available annual data since 2010:"
   ]
  },
  {
   "cell_type": "code",
   "execution_count": 9,
   "metadata": {},
   "outputs": [],
   "source": [
    "def get_indicator_values(i):\n",
    "    return (\"\"\"\n",
    "    SELECT\n",
    "      country_name,\n",
    "      AVG(value) AS average\n",
    "    FROM\n",
    "      `bigquery-public-data.world_bank_health_population.health_nutrition_population`\n",
    "    WHERE\n",
    "      indicator_code = \\\"\"\"\"+indicator_codes.iloc[i,1]+\"\"\"\\\"\n",
    "      AND year > 2010\n",
    "    GROUP BY\n",
    "      country_name\n",
    "    ;\n",
    "        \"\"\")"
   ]
  },
  {
   "cell_type": "markdown",
   "metadata": {},
   "source": [
    "Read indicator values form *bigquery-public-data.world_bank_health_population.health_nutrition_population* and merge with the dataframe containing country names:"
   ]
  },
  {
   "cell_type": "code",
   "execution_count": 10,
   "metadata": {},
   "outputs": [],
   "source": [
    "#for i in indicator_codes_select:\n",
    "#    df1 = pd.read_gbq(get_indicator_values(i),project_id='world-dev-indc')\n",
    "#    df = pd.merge(df, df1, left_on='country_name', right_on='country_name', how='outer')\n",
    "#df.to_csv(r'./maternal_child_health.csv')"
   ]
  },
  {
   "cell_type": "code",
   "execution_count": 11,
   "metadata": {},
   "outputs": [
    {
     "data": {
      "text/html": [
       "<div>\n",
       "<style scoped>\n",
       "    .dataframe tbody tr th:only-of-type {\n",
       "        vertical-align: middle;\n",
       "    }\n",
       "\n",
       "    .dataframe tbody tr th {\n",
       "        vertical-align: top;\n",
       "    }\n",
       "\n",
       "    .dataframe thead th {\n",
       "        text-align: right;\n",
       "    }\n",
       "</style>\n",
       "<table border=\"1\" class=\"dataframe\">\n",
       "  <thead>\n",
       "    <tr style=\"text-align: right;\">\n",
       "      <th></th>\n",
       "      <th>Country_Name</th>\n",
       "      <th>SH.PRG.SYPH.ZS</th>\n",
       "      <th>SH.UHC.SRVS.CV.XD</th>\n",
       "      <th>SH.STA.IYCF.ZS</th>\n",
       "      <th>SH.STA.PNVC.ZS</th>\n",
       "      <th>SH.STA.OWAD.FE.ZS</th>\n",
       "      <th>SH.UHC.OOPC.25.ZS</th>\n",
       "      <th>SP.DYN.CBRT.IN</th>\n",
       "      <th>SH.FPL.SATM.ZS</th>\n",
       "      <th>SH.MED.BEDS.ZS</th>\n",
       "      <th>...</th>\n",
       "      <th>SP.POP.3539.FE</th>\n",
       "      <th>SP.POP.4044.FE</th>\n",
       "      <th>SP.POP.TOTL.FE.IN</th>\n",
       "      <th>SP.DYN.TFRT.IN</th>\n",
       "      <th>SP.POP.TOTL</th>\n",
       "      <th>SH.STA.MALN.ZS</th>\n",
       "      <th>SH.STA.OWGH.ZS</th>\n",
       "      <th>SH.STA.STNT.ZS</th>\n",
       "      <th>SH.STA.WAST.ZS</th>\n",
       "      <th>SH.SVR.WAST.ZS</th>\n",
       "    </tr>\n",
       "  </thead>\n",
       "  <tbody>\n",
       "    <tr>\n",
       "      <th>0</th>\n",
       "      <td>Brunei Darussalam</td>\n",
       "      <td>0.30</td>\n",
       "      <td>1.0</td>\n",
       "      <td>NaN</td>\n",
       "      <td>NaN</td>\n",
       "      <td>39.816667</td>\n",
       "      <td>NaN</td>\n",
       "      <td>16.356375</td>\n",
       "      <td>NaN</td>\n",
       "      <td>2.73</td>\n",
       "      <td>...</td>\n",
       "      <td>1.0</td>\n",
       "      <td>1.0</td>\n",
       "      <td>1.0</td>\n",
       "      <td>1.933500</td>\n",
       "      <td>1.0</td>\n",
       "      <td>NaN</td>\n",
       "      <td>NaN</td>\n",
       "      <td>NaN</td>\n",
       "      <td>NaN</td>\n",
       "      <td>NaN</td>\n",
       "    </tr>\n",
       "    <tr>\n",
       "      <th>1</th>\n",
       "      <td>Cayman Islands</td>\n",
       "      <td>NaN</td>\n",
       "      <td>NaN</td>\n",
       "      <td>NaN</td>\n",
       "      <td>NaN</td>\n",
       "      <td>NaN</td>\n",
       "      <td>NaN</td>\n",
       "      <td>11.833501</td>\n",
       "      <td>NaN</td>\n",
       "      <td>NaN</td>\n",
       "      <td>...</td>\n",
       "      <td>NaN</td>\n",
       "      <td>NaN</td>\n",
       "      <td>NaN</td>\n",
       "      <td>NaN</td>\n",
       "      <td>1.0</td>\n",
       "      <td>NaN</td>\n",
       "      <td>NaN</td>\n",
       "      <td>NaN</td>\n",
       "      <td>NaN</td>\n",
       "      <td>NaN</td>\n",
       "    </tr>\n",
       "    <tr>\n",
       "      <th>2</th>\n",
       "      <td>Sint Maarten (Dutch part)</td>\n",
       "      <td>NaN</td>\n",
       "      <td>NaN</td>\n",
       "      <td>NaN</td>\n",
       "      <td>NaN</td>\n",
       "      <td>NaN</td>\n",
       "      <td>NaN</td>\n",
       "      <td>6.000000</td>\n",
       "      <td>NaN</td>\n",
       "      <td>NaN</td>\n",
       "      <td>...</td>\n",
       "      <td>NaN</td>\n",
       "      <td>NaN</td>\n",
       "      <td>NaN</td>\n",
       "      <td>2.030000</td>\n",
       "      <td>1.0</td>\n",
       "      <td>NaN</td>\n",
       "      <td>NaN</td>\n",
       "      <td>NaN</td>\n",
       "      <td>NaN</td>\n",
       "      <td>NaN</td>\n",
       "    </tr>\n",
       "    <tr>\n",
       "      <th>3</th>\n",
       "      <td>South Africa</td>\n",
       "      <td>1.60</td>\n",
       "      <td>1.0</td>\n",
       "      <td>1.0</td>\n",
       "      <td>83.6</td>\n",
       "      <td>64.050000</td>\n",
       "      <td>NaN</td>\n",
       "      <td>21.869875</td>\n",
       "      <td>77.8</td>\n",
       "      <td>NaN</td>\n",
       "      <td>...</td>\n",
       "      <td>1.0</td>\n",
       "      <td>1.0</td>\n",
       "      <td>1.0</td>\n",
       "      <td>2.495875</td>\n",
       "      <td>1.0</td>\n",
       "      <td>7.2</td>\n",
       "      <td>15.25</td>\n",
       "      <td>27.3</td>\n",
       "      <td>4.05</td>\n",
       "      <td>1.85</td>\n",
       "    </tr>\n",
       "    <tr>\n",
       "      <th>4</th>\n",
       "      <td>Uruguay</td>\n",
       "      <td>1.04</td>\n",
       "      <td>1.0</td>\n",
       "      <td>NaN</td>\n",
       "      <td>NaN</td>\n",
       "      <td>50.016667</td>\n",
       "      <td>NaN</td>\n",
       "      <td>14.123750</td>\n",
       "      <td>NaN</td>\n",
       "      <td>2.20</td>\n",
       "      <td>...</td>\n",
       "      <td>1.0</td>\n",
       "      <td>1.0</td>\n",
       "      <td>1.0</td>\n",
       "      <td>1.995500</td>\n",
       "      <td>1.0</td>\n",
       "      <td>1.0</td>\n",
       "      <td>7.20</td>\n",
       "      <td>10.7</td>\n",
       "      <td>1.30</td>\n",
       "      <td>1.00</td>\n",
       "    </tr>\n",
       "  </tbody>\n",
       "</table>\n",
       "<p>5 rows × 93 columns</p>\n",
       "</div>"
      ],
      "text/plain": [
       "                Country_Name  SH.PRG.SYPH.ZS  SH.UHC.SRVS.CV.XD  \\\n",
       "0          Brunei Darussalam            0.30                1.0   \n",
       "1             Cayman Islands             NaN                NaN   \n",
       "2  Sint Maarten (Dutch part)             NaN                NaN   \n",
       "3               South Africa            1.60                1.0   \n",
       "4                    Uruguay            1.04                1.0   \n",
       "\n",
       "   SH.STA.IYCF.ZS  SH.STA.PNVC.ZS  SH.STA.OWAD.FE.ZS  SH.UHC.OOPC.25.ZS  \\\n",
       "0             NaN             NaN          39.816667                NaN   \n",
       "1             NaN             NaN                NaN                NaN   \n",
       "2             NaN             NaN                NaN                NaN   \n",
       "3             1.0            83.6          64.050000                NaN   \n",
       "4             NaN             NaN          50.016667                NaN   \n",
       "\n",
       "   SP.DYN.CBRT.IN  SH.FPL.SATM.ZS  SH.MED.BEDS.ZS  ...  SP.POP.3539.FE  \\\n",
       "0       16.356375             NaN            2.73  ...             1.0   \n",
       "1       11.833501             NaN             NaN  ...             NaN   \n",
       "2        6.000000             NaN             NaN  ...             NaN   \n",
       "3       21.869875            77.8             NaN  ...             1.0   \n",
       "4       14.123750             NaN            2.20  ...             1.0   \n",
       "\n",
       "   SP.POP.4044.FE  SP.POP.TOTL.FE.IN  SP.DYN.TFRT.IN  SP.POP.TOTL  \\\n",
       "0             1.0                1.0        1.933500          1.0   \n",
       "1             NaN                NaN             NaN          1.0   \n",
       "2             NaN                NaN        2.030000          1.0   \n",
       "3             1.0                1.0        2.495875          1.0   \n",
       "4             1.0                1.0        1.995500          1.0   \n",
       "\n",
       "   SH.STA.MALN.ZS  SH.STA.OWGH.ZS  SH.STA.STNT.ZS  SH.STA.WAST.ZS  \\\n",
       "0             NaN             NaN             NaN             NaN   \n",
       "1             NaN             NaN             NaN             NaN   \n",
       "2             NaN             NaN             NaN             NaN   \n",
       "3             7.2           15.25            27.3            4.05   \n",
       "4             1.0            7.20            10.7            1.30   \n",
       "\n",
       "   SH.SVR.WAST.ZS  \n",
       "0             NaN  \n",
       "1             NaN  \n",
       "2             NaN  \n",
       "3            1.85  \n",
       "4            1.00  \n",
       "\n",
       "[5 rows x 93 columns]"
      ]
     },
     "execution_count": 11,
     "metadata": {},
     "output_type": "execute_result"
    }
   ],
   "source": [
    "mch = pd.read_csv(\"maternal_child_health.csv\", float_precision = \"round_trip\")\n",
    "mch.columns = attributes\n",
    "mch = mch.drop(columns=[\"Serial No.\"])\n",
    "#mch = mch.set_index(\"Country_Name\")\n",
    "mch[:5]"
   ]
  },
  {
   "cell_type": "markdown",
   "metadata": {},
   "source": [
    "Count the proportion of NaNs:"
   ]
  },
  {
   "cell_type": "code",
   "execution_count": 12,
   "metadata": {},
   "outputs": [
    {
     "data": {
      "text/plain": [
       "0.3187141894169194"
      ]
     },
     "execution_count": 12,
     "metadata": {},
     "output_type": "execute_result"
    }
   ],
   "source": [
    "mch.isna().sum().sum() / (len(mch.index)*(len(mch.columns)-1)) #because one of the columns is country names!"
   ]
  },
  {
   "cell_type": "markdown",
   "metadata": {},
   "source": [
    "Drop countries/territories/groups that have more than half the data missing:"
   ]
  },
  {
   "cell_type": "code",
   "execution_count": 13,
   "metadata": {},
   "outputs": [],
   "source": [
    "to_drop = []\n",
    "for i in range(len(mch.index)):\n",
    "    if (mch.iloc[i].count() < len(mch.columns)/2):\n",
    "        to_drop.append(i)\n",
    "mch = mch.drop(to_drop,axis=0)\n",
    "mch = mch.reset_index(drop=True)"
   ]
  },
  {
   "cell_type": "code",
   "execution_count": 14,
   "metadata": {},
   "outputs": [
    {
     "data": {
      "text/plain": [
       "0.24509899068322982"
      ]
     },
     "execution_count": 14,
     "metadata": {},
     "output_type": "execute_result"
    }
   ],
   "source": [
    "mch.isna().sum().sum() / (len(mch.index)*(len(mch.columns)-1))"
   ]
  },
  {
   "cell_type": "markdown",
   "metadata": {},
   "source": [
    "Drop columns that have missing data for more than half the countries/territories:"
   ]
  },
  {
   "cell_type": "code",
   "execution_count": 15,
   "metadata": {},
   "outputs": [
    {
     "data": {
      "text/html": [
       "<div>\n",
       "<style scoped>\n",
       "    .dataframe tbody tr th:only-of-type {\n",
       "        vertical-align: middle;\n",
       "    }\n",
       "\n",
       "    .dataframe tbody tr th {\n",
       "        vertical-align: top;\n",
       "    }\n",
       "\n",
       "    .dataframe thead th {\n",
       "        text-align: right;\n",
       "    }\n",
       "</style>\n",
       "<table border=\"1\" class=\"dataframe\">\n",
       "  <thead>\n",
       "    <tr style=\"text-align: right;\">\n",
       "      <th></th>\n",
       "      <th>Country_Name</th>\n",
       "      <th>SH.PRG.SYPH.ZS</th>\n",
       "      <th>SH.UHC.SRVS.CV.XD</th>\n",
       "      <th>SH.STA.OWAD.FE.ZS</th>\n",
       "      <th>SP.DYN.CBRT.IN</th>\n",
       "      <th>SH.FPL.SATM.ZS</th>\n",
       "      <th>SH.MED.BEDS.ZS</th>\n",
       "      <th>SH.MED.SAOP.P5</th>\n",
       "      <th>SH.MLR.INCD.P3</th>\n",
       "      <th>SH.STA.BRTW.ZS</th>\n",
       "      <th>...</th>\n",
       "      <th>SP.POP.3034.FE</th>\n",
       "      <th>SP.POP.3539.FE</th>\n",
       "      <th>SP.POP.4044.FE</th>\n",
       "      <th>SP.POP.TOTL.FE.IN</th>\n",
       "      <th>SP.DYN.TFRT.IN</th>\n",
       "      <th>SP.POP.TOTL</th>\n",
       "      <th>SH.STA.MALN.ZS</th>\n",
       "      <th>SH.STA.OWGH.ZS</th>\n",
       "      <th>SH.STA.STNT.ZS</th>\n",
       "      <th>SH.STA.WAST.ZS</th>\n",
       "    </tr>\n",
       "  </thead>\n",
       "  <tbody>\n",
       "    <tr>\n",
       "      <th>0</th>\n",
       "      <td>Brunei Darussalam</td>\n",
       "      <td>0.300</td>\n",
       "      <td>1.000000</td>\n",
       "      <td>39.816667</td>\n",
       "      <td>16.356375</td>\n",
       "      <td>NaN</td>\n",
       "      <td>2.730000</td>\n",
       "      <td>NaN</td>\n",
       "      <td>NaN</td>\n",
       "      <td>11.692034</td>\n",
       "      <td>...</td>\n",
       "      <td>1.0</td>\n",
       "      <td>1.0</td>\n",
       "      <td>1.0</td>\n",
       "      <td>1.0</td>\n",
       "      <td>1.933500</td>\n",
       "      <td>1.0</td>\n",
       "      <td>NaN</td>\n",
       "      <td>NaN</td>\n",
       "      <td>NaN</td>\n",
       "      <td>NaN</td>\n",
       "    </tr>\n",
       "    <tr>\n",
       "      <th>1</th>\n",
       "      <td>South Africa</td>\n",
       "      <td>1.600</td>\n",
       "      <td>1.000000</td>\n",
       "      <td>64.050000</td>\n",
       "      <td>21.869875</td>\n",
       "      <td>77.800000</td>\n",
       "      <td>NaN</td>\n",
       "      <td>11.420000</td>\n",
       "      <td>1.685627</td>\n",
       "      <td>14.250456</td>\n",
       "      <td>...</td>\n",
       "      <td>1.0</td>\n",
       "      <td>1.0</td>\n",
       "      <td>1.0</td>\n",
       "      <td>1.0</td>\n",
       "      <td>2.495875</td>\n",
       "      <td>1.0</td>\n",
       "      <td>7.2000</td>\n",
       "      <td>15.2500</td>\n",
       "      <td>27.3000</td>\n",
       "      <td>4.05</td>\n",
       "    </tr>\n",
       "    <tr>\n",
       "      <th>2</th>\n",
       "      <td>Uruguay</td>\n",
       "      <td>1.040</td>\n",
       "      <td>1.000000</td>\n",
       "      <td>50.016667</td>\n",
       "      <td>14.123750</td>\n",
       "      <td>NaN</td>\n",
       "      <td>2.200000</td>\n",
       "      <td>38.900000</td>\n",
       "      <td>NaN</td>\n",
       "      <td>7.807814</td>\n",
       "      <td>...</td>\n",
       "      <td>1.0</td>\n",
       "      <td>1.0</td>\n",
       "      <td>1.0</td>\n",
       "      <td>1.0</td>\n",
       "      <td>1.995500</td>\n",
       "      <td>1.0</td>\n",
       "      <td>1.0000</td>\n",
       "      <td>7.2000</td>\n",
       "      <td>10.7000</td>\n",
       "      <td>1.30</td>\n",
       "    </tr>\n",
       "    <tr>\n",
       "      <th>3</th>\n",
       "      <td>Central African Republic</td>\n",
       "      <td>6.125</td>\n",
       "      <td>1.000000</td>\n",
       "      <td>26.783333</td>\n",
       "      <td>36.776125</td>\n",
       "      <td>NaN</td>\n",
       "      <td>1.000000</td>\n",
       "      <td>0.380000</td>\n",
       "      <td>383.609340</td>\n",
       "      <td>14.740288</td>\n",
       "      <td>...</td>\n",
       "      <td>1.0</td>\n",
       "      <td>1.0</td>\n",
       "      <td>1.0</td>\n",
       "      <td>1.0</td>\n",
       "      <td>4.962250</td>\n",
       "      <td>1.0</td>\n",
       "      <td>22.6500</td>\n",
       "      <td>1.0000</td>\n",
       "      <td>40.2500</td>\n",
       "      <td>7.00</td>\n",
       "    </tr>\n",
       "    <tr>\n",
       "      <th>4</th>\n",
       "      <td>Egypt, Arab Rep.</td>\n",
       "      <td>NaN</td>\n",
       "      <td>1.000000</td>\n",
       "      <td>68.016667</td>\n",
       "      <td>27.807500</td>\n",
       "      <td>1.000000</td>\n",
       "      <td>0.775000</td>\n",
       "      <td>50.080000</td>\n",
       "      <td>1.000000</td>\n",
       "      <td>NaN</td>\n",
       "      <td>...</td>\n",
       "      <td>1.0</td>\n",
       "      <td>1.0</td>\n",
       "      <td>1.0</td>\n",
       "      <td>1.0</td>\n",
       "      <td>3.386500</td>\n",
       "      <td>1.0</td>\n",
       "      <td>1.0000</td>\n",
       "      <td>15.7000</td>\n",
       "      <td>22.3000</td>\n",
       "      <td>9.50</td>\n",
       "    </tr>\n",
       "    <tr>\n",
       "      <th>...</th>\n",
       "      <td>...</td>\n",
       "      <td>...</td>\n",
       "      <td>...</td>\n",
       "      <td>...</td>\n",
       "      <td>...</td>\n",
       "      <td>...</td>\n",
       "      <td>...</td>\n",
       "      <td>...</td>\n",
       "      <td>...</td>\n",
       "      <td>...</td>\n",
       "      <td>...</td>\n",
       "      <td>...</td>\n",
       "      <td>...</td>\n",
       "      <td>...</td>\n",
       "      <td>...</td>\n",
       "      <td>...</td>\n",
       "      <td>...</td>\n",
       "      <td>...</td>\n",
       "      <td>...</td>\n",
       "      <td>...</td>\n",
       "      <td>...</td>\n",
       "    </tr>\n",
       "    <tr>\n",
       "      <th>219</th>\n",
       "      <td>Middle East &amp; North Africa (IDA &amp; IBRD countries)</td>\n",
       "      <td>NaN</td>\n",
       "      <td>66.493272</td>\n",
       "      <td>64.648088</td>\n",
       "      <td>24.672243</td>\n",
       "      <td>NaN</td>\n",
       "      <td>1.185023</td>\n",
       "      <td>20.450297</td>\n",
       "      <td>4.214389</td>\n",
       "      <td>NaN</td>\n",
       "      <td>...</td>\n",
       "      <td>1.0</td>\n",
       "      <td>1.0</td>\n",
       "      <td>1.0</td>\n",
       "      <td>1.0</td>\n",
       "      <td>2.930111</td>\n",
       "      <td>1.0</td>\n",
       "      <td>NaN</td>\n",
       "      <td>NaN</td>\n",
       "      <td>NaN</td>\n",
       "      <td>NaN</td>\n",
       "    </tr>\n",
       "    <tr>\n",
       "      <th>220</th>\n",
       "      <td>North America</td>\n",
       "      <td>NaN</td>\n",
       "      <td>84.003185</td>\n",
       "      <td>61.356614</td>\n",
       "      <td>12.112817</td>\n",
       "      <td>NaN</td>\n",
       "      <td>2.886742</td>\n",
       "      <td>53.623898</td>\n",
       "      <td>NaN</td>\n",
       "      <td>7.891826</td>\n",
       "      <td>...</td>\n",
       "      <td>1.0</td>\n",
       "      <td>1.0</td>\n",
       "      <td>1.0</td>\n",
       "      <td>1.0</td>\n",
       "      <td>1.804418</td>\n",
       "      <td>1.0</td>\n",
       "      <td>0.6625</td>\n",
       "      <td>7.4625</td>\n",
       "      <td>2.6875</td>\n",
       "      <td>NaN</td>\n",
       "    </tr>\n",
       "    <tr>\n",
       "      <th>221</th>\n",
       "      <td>OECD members</td>\n",
       "      <td>NaN</td>\n",
       "      <td>80.772772</td>\n",
       "      <td>52.278369</td>\n",
       "      <td>11.934467</td>\n",
       "      <td>NaN</td>\n",
       "      <td>4.101432</td>\n",
       "      <td>68.273043</td>\n",
       "      <td>NaN</td>\n",
       "      <td>7.953964</td>\n",
       "      <td>...</td>\n",
       "      <td>1.0</td>\n",
       "      <td>1.0</td>\n",
       "      <td>1.0</td>\n",
       "      <td>1.0</td>\n",
       "      <td>1.741550</td>\n",
       "      <td>1.0</td>\n",
       "      <td>NaN</td>\n",
       "      <td>NaN</td>\n",
       "      <td>NaN</td>\n",
       "      <td>NaN</td>\n",
       "    </tr>\n",
       "    <tr>\n",
       "      <th>222</th>\n",
       "      <td>Post-demographic dividend</td>\n",
       "      <td>NaN</td>\n",
       "      <td>81.788633</td>\n",
       "      <td>49.914021</td>\n",
       "      <td>10.502517</td>\n",
       "      <td>NaN</td>\n",
       "      <td>4.991617</td>\n",
       "      <td>73.230290</td>\n",
       "      <td>NaN</td>\n",
       "      <td>7.391776</td>\n",
       "      <td>...</td>\n",
       "      <td>1.0</td>\n",
       "      <td>1.0</td>\n",
       "      <td>1.0</td>\n",
       "      <td>1.0</td>\n",
       "      <td>1.617782</td>\n",
       "      <td>1.0</td>\n",
       "      <td>NaN</td>\n",
       "      <td>NaN</td>\n",
       "      <td>NaN</td>\n",
       "      <td>NaN</td>\n",
       "    </tr>\n",
       "    <tr>\n",
       "      <th>223</th>\n",
       "      <td>Turkmenistan</td>\n",
       "      <td>NaN</td>\n",
       "      <td>1.000000</td>\n",
       "      <td>49.800000</td>\n",
       "      <td>25.651750</td>\n",
       "      <td>75.580845</td>\n",
       "      <td>7.433333</td>\n",
       "      <td>64.030000</td>\n",
       "      <td>1.000000</td>\n",
       "      <td>4.981577</td>\n",
       "      <td>...</td>\n",
       "      <td>1.0</td>\n",
       "      <td>1.0</td>\n",
       "      <td>1.0</td>\n",
       "      <td>1.0</td>\n",
       "      <td>2.897625</td>\n",
       "      <td>1.0</td>\n",
       "      <td>3.2000</td>\n",
       "      <td>5.9000</td>\n",
       "      <td>11.5000</td>\n",
       "      <td>4.20</td>\n",
       "    </tr>\n",
       "  </tbody>\n",
       "</table>\n",
       "<p>224 rows × 73 columns</p>\n",
       "</div>"
      ],
      "text/plain": [
       "                                          Country_Name  SH.PRG.SYPH.ZS  \\\n",
       "0                                    Brunei Darussalam           0.300   \n",
       "1                                         South Africa           1.600   \n",
       "2                                              Uruguay           1.040   \n",
       "3                             Central African Republic           6.125   \n",
       "4                                     Egypt, Arab Rep.             NaN   \n",
       "..                                                 ...             ...   \n",
       "219  Middle East & North Africa (IDA & IBRD countries)             NaN   \n",
       "220                                      North America             NaN   \n",
       "221                                       OECD members             NaN   \n",
       "222                          Post-demographic dividend             NaN   \n",
       "223                                       Turkmenistan             NaN   \n",
       "\n",
       "     SH.UHC.SRVS.CV.XD  SH.STA.OWAD.FE.ZS  SP.DYN.CBRT.IN  SH.FPL.SATM.ZS  \\\n",
       "0             1.000000          39.816667       16.356375             NaN   \n",
       "1             1.000000          64.050000       21.869875       77.800000   \n",
       "2             1.000000          50.016667       14.123750             NaN   \n",
       "3             1.000000          26.783333       36.776125             NaN   \n",
       "4             1.000000          68.016667       27.807500        1.000000   \n",
       "..                 ...                ...             ...             ...   \n",
       "219          66.493272          64.648088       24.672243             NaN   \n",
       "220          84.003185          61.356614       12.112817             NaN   \n",
       "221          80.772772          52.278369       11.934467             NaN   \n",
       "222          81.788633          49.914021       10.502517             NaN   \n",
       "223           1.000000          49.800000       25.651750       75.580845   \n",
       "\n",
       "     SH.MED.BEDS.ZS  SH.MED.SAOP.P5  SH.MLR.INCD.P3  SH.STA.BRTW.ZS  ...  \\\n",
       "0          2.730000             NaN             NaN       11.692034  ...   \n",
       "1               NaN       11.420000        1.685627       14.250456  ...   \n",
       "2          2.200000       38.900000             NaN        7.807814  ...   \n",
       "3          1.000000        0.380000      383.609340       14.740288  ...   \n",
       "4          0.775000       50.080000        1.000000             NaN  ...   \n",
       "..              ...             ...             ...             ...  ...   \n",
       "219        1.185023       20.450297        4.214389             NaN  ...   \n",
       "220        2.886742       53.623898             NaN        7.891826  ...   \n",
       "221        4.101432       68.273043             NaN        7.953964  ...   \n",
       "222        4.991617       73.230290             NaN        7.391776  ...   \n",
       "223        7.433333       64.030000        1.000000        4.981577  ...   \n",
       "\n",
       "     SP.POP.3034.FE  SP.POP.3539.FE  SP.POP.4044.FE  SP.POP.TOTL.FE.IN  \\\n",
       "0               1.0             1.0             1.0                1.0   \n",
       "1               1.0             1.0             1.0                1.0   \n",
       "2               1.0             1.0             1.0                1.0   \n",
       "3               1.0             1.0             1.0                1.0   \n",
       "4               1.0             1.0             1.0                1.0   \n",
       "..              ...             ...             ...                ...   \n",
       "219             1.0             1.0             1.0                1.0   \n",
       "220             1.0             1.0             1.0                1.0   \n",
       "221             1.0             1.0             1.0                1.0   \n",
       "222             1.0             1.0             1.0                1.0   \n",
       "223             1.0             1.0             1.0                1.0   \n",
       "\n",
       "     SP.DYN.TFRT.IN  SP.POP.TOTL  SH.STA.MALN.ZS  SH.STA.OWGH.ZS  \\\n",
       "0          1.933500          1.0             NaN             NaN   \n",
       "1          2.495875          1.0          7.2000         15.2500   \n",
       "2          1.995500          1.0          1.0000          7.2000   \n",
       "3          4.962250          1.0         22.6500          1.0000   \n",
       "4          3.386500          1.0          1.0000         15.7000   \n",
       "..              ...          ...             ...             ...   \n",
       "219        2.930111          1.0             NaN             NaN   \n",
       "220        1.804418          1.0          0.6625          7.4625   \n",
       "221        1.741550          1.0             NaN             NaN   \n",
       "222        1.617782          1.0             NaN             NaN   \n",
       "223        2.897625          1.0          3.2000          5.9000   \n",
       "\n",
       "     SH.STA.STNT.ZS  SH.STA.WAST.ZS  \n",
       "0               NaN             NaN  \n",
       "1           27.3000            4.05  \n",
       "2           10.7000            1.30  \n",
       "3           40.2500            7.00  \n",
       "4           22.3000            9.50  \n",
       "..              ...             ...  \n",
       "219             NaN             NaN  \n",
       "220          2.6875             NaN  \n",
       "221             NaN             NaN  \n",
       "222             NaN             NaN  \n",
       "223         11.5000            4.20  \n",
       "\n",
       "[224 rows x 73 columns]"
      ]
     },
     "execution_count": 15,
     "metadata": {},
     "output_type": "execute_result"
    }
   ],
   "source": [
    "to_drop = []\n",
    "for i in range(1,len(mch.columns)):\n",
    "    if (mch[mch.columns[i]].count() < len(mch.index)/2):\n",
    "        to_drop.append(mch.columns[i])\n",
    "mch = mch.drop(to_drop,axis=1)\n",
    "mch"
   ]
  },
  {
   "cell_type": "code",
   "execution_count": 16,
   "metadata": {},
   "outputs": [
    {
     "data": {
      "text/plain": [
       "0.13560267857142858"
      ]
     },
     "execution_count": 16,
     "metadata": {},
     "output_type": "execute_result"
    }
   ],
   "source": [
    "mch.isna().sum().sum() / (len(mch.index)*(len(mch.columns)-1))"
   ]
  },
  {
   "cell_type": "markdown",
   "metadata": {},
   "source": [
    "Avoid imputing missing values at this stage to prevent information leaking to the test set.  "
   ]
  },
  {
   "cell_type": "markdown",
   "metadata": {},
   "source": [
    "Drop columns that have the same value for every country:"
   ]
  },
  {
   "cell_type": "code",
   "execution_count": 17,
   "metadata": {},
   "outputs": [],
   "source": [
    "mch = mch.drop([mch.columns[2],mch.columns[11],mch.columns[14],mch.columns[15],mch.columns[16],mch.columns[23],\n",
    "mch.columns[24],mch.columns[25],mch.columns[26],mch.columns[27],mch.columns[28],mch.columns[29],\n",
    "mch.columns[42],mch.columns[57],mch.columns[59],mch.columns[60],mch.columns[61],mch.columns[62],\n",
    "mch.columns[63],mch.columns[64],mch.columns[65],mch.columns[66],mch.columns[68]], axis = 1)"
   ]
  },
  {
   "cell_type": "markdown",
   "metadata": {},
   "source": [
    "Now look at the names of the indicators that form colums of mch by printing out the relevant entries in the \"indicator_name\" column of the \"indicator_codes\" dataframe:"
   ]
  },
  {
   "cell_type": "code",
   "execution_count": 18,
   "metadata": {},
   "outputs": [
    {
     "name": "stdout",
     "output_type": "stream",
     "text": [
      "1 1    Prevalence of syphilis (% of women attending a...\n",
      "Name: indicator_name, dtype: object\n",
      "2 7    Prevalence of overweight, female (% of female ...\n",
      "Name: indicator_name, dtype: object\n",
      "3 22    Birth rate, crude (per 1,000 people)\n",
      "Name: indicator_name, dtype: object\n",
      "4 26    Demand for family planning satisfied by modern...\n",
      "Name: indicator_name, dtype: object\n",
      "5 27    Hospital beds (per 1,000 people)\n",
      "Name: indicator_name, dtype: object\n",
      "6 28    Specialist surgical workforce (per 100,000 pop...\n",
      "Name: indicator_name, dtype: object\n",
      "7 29    Incidence of malaria (per 1,000 population at ...\n",
      "Name: indicator_name, dtype: object\n",
      "8 31    Low-birthweight babies (% of births)\n",
      "Name: indicator_name, dtype: object\n",
      "9 38    Adolescent fertility rate (births per 1,000 wo...\n",
      "Name: indicator_name, dtype: object\n",
      "10 46    Women's share of population ages 15+ living wi...\n",
      "Name: indicator_name, dtype: object\n",
      "11 49    Prevalence of HIV, female (% ages 15-24)\n",
      "Name: indicator_name, dtype: object\n",
      "12 71    Incidence of tuberculosis (per 100,000 people)\n",
      "Name: indicator_name, dtype: object\n",
      "13 76    Literacy rate, adult female (% of females ages...\n",
      "Name: indicator_name, dtype: object\n",
      "14 78    Literacy rate, adult total (% of people ages 1...\n",
      "Name: indicator_name, dtype: object\n",
      "15 92    School enrollment, secondary, female (% net)\n",
      "Name: indicator_name, dtype: object\n",
      "16 95    School enrollment, tertiary, female (% gross)\n",
      "Name: indicator_name, dtype: object\n",
      "17 101    Prevalence of undernourishment (% of population)\n",
      "Name: indicator_name, dtype: object\n",
      "18 112    Unemployment, female (% of female labor force)...\n",
      "Name: indicator_name, dtype: object\n",
      "19 117    Pregnant women receiving prenatal care of at l...\n",
      "Name: indicator_name, dtype: object\n",
      "20 118    Pregnant women receiving prenatal care (%)\n",
      "Name: indicator_name, dtype: object\n",
      "21 120    Exclusive breastfeeding (% of children under 6...\n",
      "Name: indicator_name, dtype: object\n",
      "22 121    Births attended by skilled health staff (% of ...\n",
      "Name: indicator_name, dtype: object\n",
      "23 145    Nurses and midwives (per 1,000 people)\n",
      "Name: indicator_name, dtype: object\n",
      "24 146    Physicians (per 1,000 people)\n",
      "Name: indicator_name, dtype: object\n",
      "25 147    Mean age at first marriage, female\n",
      "Name: indicator_name, dtype: object\n",
      "26 157    People using at least basic sanitation service...\n",
      "Name: indicator_name, dtype: object\n",
      "27 164    Total alcohol consumption per capita, female (...\n",
      "Name: indicator_name, dtype: object\n",
      "28 171    Smoking prevalence, females (% of adults)\n",
      "Name: indicator_name, dtype: object\n",
      "29 172    Smoking prevalence, males (% of adults)\n",
      "Name: indicator_name, dtype: object\n",
      "30 182    Mortality rate attributed to unsafe water, uns...\n",
      "Name: indicator_name, dtype: object\n",
      "31 190    People practicing open defecation (% of popula...\n",
      "Name: indicator_name, dtype: object\n",
      "32 192    Risk of impoverishing expenditure for surgical...\n",
      "Name: indicator_name, dtype: object\n",
      "33 193    Labor force, female (% of total labor force)\n",
      "Name: indicator_name, dtype: object\n",
      "34 197    Rural population (% of total population)\n",
      "Name: indicator_name, dtype: object\n",
      "35 262    Prevalence of anemia among children (% of chil...\n",
      "Name: indicator_name, dtype: object\n",
      "36 264    Prevalence of anemia among pregnant women (%)\n",
      "Name: indicator_name, dtype: object\n",
      "37 267    Unmet need for contraception (% of married wom...\n",
      "Name: indicator_name, dtype: object\n",
      "38 269    Mortality rate, under-5, female (per 1,000 liv...\n",
      "Name: indicator_name, dtype: object\n",
      "39 270    Mortality rate, under-5, male (per 1,000 live ...\n",
      "Name: indicator_name, dtype: object\n",
      "40 271    Mortality rate, neonatal (per 1,000 live births)\n",
      "Name: indicator_name, dtype: object\n",
      "41 277    Mortality rate, infant, female (per 1,000 live...\n",
      "Name: indicator_name, dtype: object\n",
      "42 278    Mortality rate, infant (per 1,000 live births)\n",
      "Name: indicator_name, dtype: object\n",
      "43 279    Mortality rate, infant, male (per 1,000 live b...\n",
      "Name: indicator_name, dtype: object\n",
      "44 282    Lifetime risk of maternal death (%)\"\n",
      "Name: indicator_name, dtype: object\n",
      "45 331    Fertility rate, total (births per woman)\n",
      "Name: indicator_name, dtype: object\n",
      "46 338    Prevalence of underweight, weight for age (% o...\n",
      "Name: indicator_name, dtype: object\n",
      "47 341    Prevalence of overweight, weight for height (%...\n",
      "Name: indicator_name, dtype: object\n",
      "48 344    Prevalence of stunting, height for age (% of c...\n",
      "Name: indicator_name, dtype: object\n",
      "49 347    Prevalence of wasting, weight for height (% of...\n",
      "Name: indicator_name, dtype: object\n"
     ]
    }
   ],
   "source": [
    "for i in range(1,len(mch.columns)):\n",
    "    print (i,indicator_codes[indicator_codes['series_code']==mch.columns[i]]['indicator_name'])"
   ]
  },
  {
   "cell_type": "markdown",
   "metadata": {},
   "source": [
    "Reorder columns to put dependent variables at the end:"
   ]
  },
  {
   "cell_type": "code",
   "execution_count": 19,
   "metadata": {},
   "outputs": [],
   "source": [
    "dep_cols = mch.columns[38:45] #going to treat these as dependent variables\n",
    "indep_cols = mch.columns[:38].append(mch.columns[45:]) #going to treat these as independent variables\n",
    "cols = indep_cols.append(dep_cols)\n",
    "mch = mch[cols] #Reorder columns"
   ]
  },
  {
   "cell_type": "markdown",
   "metadata": {},
   "source": [
    "Add a dependent variable --- life time risk of maternal mortality normalized by the fertility rate to get maternal mortality risk per birth:"
   ]
  },
  {
   "cell_type": "code",
   "execution_count": 20,
   "metadata": {},
   "outputs": [
    {
     "data": {
      "text/plain": [
       "0      0.030946\n",
       "1      0.139514\n",
       "2      0.017958\n",
       "3      0.942708\n",
       "4      0.044064\n",
       "         ...   \n",
       "219    0.071033\n",
       "220    0.016439\n",
       "221    0.018545\n",
       "222    0.010925\n",
       "223    0.009487\n",
       "Name: SH.MMR.RISK.PB, Length: 224, dtype: float64"
      ]
     },
     "execution_count": 20,
     "metadata": {},
     "output_type": "execute_result"
    }
   ],
   "source": [
    "mch[\"SH.MMR.RISK.PB\"] = mch[\"SH.MMR.RISK.ZS\"]/mch[\"SP.DYN.TFRT.IN\"]\n",
    "mch[\"SH.MMR.RISK.PB\"]"
   ]
  },
  {
   "cell_type": "markdown",
   "metadata": {},
   "source": [
    "Update the indicator_codes dataframe to include this index:"
   ]
  },
  {
   "cell_type": "code",
   "execution_count": 21,
   "metadata": {},
   "outputs": [
    {
     "data": {
      "text/html": [
       "<div>\n",
       "<style scoped>\n",
       "    .dataframe tbody tr th:only-of-type {\n",
       "        vertical-align: middle;\n",
       "    }\n",
       "\n",
       "    .dataframe tbody tr th {\n",
       "        vertical-align: top;\n",
       "    }\n",
       "\n",
       "    .dataframe thead th {\n",
       "        text-align: right;\n",
       "    }\n",
       "</style>\n",
       "<table border=\"1\" class=\"dataframe\">\n",
       "  <thead>\n",
       "    <tr style=\"text-align: right;\">\n",
       "      <th></th>\n",
       "      <th>Unnamed: 0</th>\n",
       "      <th>series_code</th>\n",
       "      <th>topic</th>\n",
       "      <th>indicator_name</th>\n",
       "      <th>short_definition</th>\n",
       "    </tr>\n",
       "  </thead>\n",
       "  <tbody>\n",
       "    <tr>\n",
       "      <th>405</th>\n",
       "      <td>NaN</td>\n",
       "      <td>SH.MMR.RISK.PB</td>\n",
       "      <td>Health: Reproductive health</td>\n",
       "      <td>Maternal mortality risk per birth</td>\n",
       "      <td>Lifetime risk of maternal mortality divided by...</td>\n",
       "    </tr>\n",
       "  </tbody>\n",
       "</table>\n",
       "</div>"
      ],
      "text/plain": [
       "     Unnamed: 0     series_code                        topic  \\\n",
       "405         NaN  SH.MMR.RISK.PB  Health: Reproductive health   \n",
       "\n",
       "                        indicator_name  \\\n",
       "405  Maternal mortality risk per birth   \n",
       "\n",
       "                                      short_definition  \n",
       "405  Lifetime risk of maternal mortality divided by...  "
      ]
     },
     "execution_count": 21,
     "metadata": {},
     "output_type": "execute_result"
    }
   ],
   "source": [
    "indicator_codes = indicator_codes.append(pd.DataFrame([[\"SH.MMR.RISK.PB\",\"Health: Reproductive health\",\n",
    "                                                        \"Maternal mortality risk per birth\",\n",
    "                                                        \"Lifetime risk of maternal mortality divided by the fertility rate\"]], \n",
    "                                                      columns=[\"series_code\",\"topic\",\"indicator_name\",\"short_definition\"]),\n",
    "                                         ignore_index=True)\n",
    "indicator_codes[indicator_codes['series_code'] == \"SH.MMR.RISK.PB\"]"
   ]
  },
  {
   "cell_type": "markdown",
   "metadata": {},
   "source": [
    "Split into train and test sets:"
   ]
  },
  {
   "cell_type": "code",
   "execution_count": 22,
   "metadata": {},
   "outputs": [],
   "source": [
    "from sklearn.model_selection import train_test_split\n",
    "train_set, test_set = train_test_split(mch, test_size=0.2, random_state=42)"
   ]
  },
  {
   "cell_type": "code",
   "execution_count": 23,
   "metadata": {},
   "outputs": [
    {
     "name": "stdout",
     "output_type": "stream",
     "text": [
      "<class 'pandas.core.frame.DataFrame'>\n",
      "Int64Index: 179 entries, 127 to 102\n",
      "Data columns (total 51 columns):\n",
      " #   Column             Non-Null Count  Dtype  \n",
      "---  ------             --------------  -----  \n",
      " 0   Country_Name       179 non-null    object \n",
      " 1   SH.PRG.SYPH.ZS     117 non-null    float64\n",
      " 2   SH.STA.OWAD.FE.ZS  176 non-null    float64\n",
      " 3   SP.DYN.CBRT.IN     179 non-null    float64\n",
      " 4   SH.FPL.SATM.ZS     99 non-null     float64\n",
      " 5   SH.MED.BEDS.ZS     138 non-null    float64\n",
      " 6   SH.MED.SAOP.P5     155 non-null    float64\n",
      " 7   SH.MLR.INCD.P3     109 non-null    float64\n",
      " 8   SH.STA.BRTW.ZS     129 non-null    float64\n",
      " 9   SP.ADO.TFRT        179 non-null    float64\n",
      " 10  SH.DYN.AIDS.FE.ZS  128 non-null    float64\n",
      " 11  SH.HIV.1524.FE.ZS  126 non-null    float64\n",
      " 12  SH.TBS.INCD        161 non-null    float64\n",
      " 13  SE.ADT.LITR.FE.ZS  139 non-null    float64\n",
      " 14  SE.ADT.LITR.ZS     139 non-null    float64\n",
      " 15  SE.SEC.NENR.FE     149 non-null    float64\n",
      " 16  SE.TER.ENRR.FE     153 non-null    float64\n",
      " 17  SN.ITK.DEFC.ZS     160 non-null    float64\n",
      " 18  SL.UEM.TOTL.FE.ZS  176 non-null    float64\n",
      " 19  SH.STA.ANV4.ZS     123 non-null    float64\n",
      " 20  SH.STA.ANVC.ZS     111 non-null    float64\n",
      " 21  SH.STA.BFED.ZS     103 non-null    float64\n",
      " 22  SH.STA.BRTC.ZS     163 non-null    float64\n",
      " 23  SH.MED.NUMW.P3     177 non-null    float64\n",
      " 24  SH.MED.PHYS.ZS     174 non-null    float64\n",
      " 25  SP.DYN.SMAM.FE     84 non-null     float64\n",
      " 26  SH.STA.BASS.ZS     179 non-null    float64\n",
      " 27  SH.ALC.PCAP.FE.LI  177 non-null    float64\n",
      " 28  SH.PRV.SMOK.FE     137 non-null    float64\n",
      " 29  SH.PRV.SMOK.MA     136 non-null    float64\n",
      " 30  SH.STA.WASH.P5     178 non-null    float64\n",
      " 31  SH.STA.ODFC.ZS     178 non-null    float64\n",
      " 32  SH.SGR.IRSK.ZS     137 non-null    float64\n",
      " 33  SL.TLF.TOTL.FE.ZS  176 non-null    float64\n",
      " 34  SP.RUR.TOTL.ZS     179 non-null    float64\n",
      " 35  SH.ANM.CHLD.ZS     179 non-null    float64\n",
      " 36  SH.PRG.ANEM        179 non-null    float64\n",
      " 37  SP.UWT.TFRT        102 non-null    float64\n",
      " 38  SP.DYN.TFRT.IN     179 non-null    float64\n",
      " 39  SH.STA.MALN.ZS     102 non-null    float64\n",
      " 40  SH.STA.OWGH.ZS     102 non-null    float64\n",
      " 41  SH.STA.STNT.ZS     103 non-null    float64\n",
      " 42  SH.STA.WAST.ZS     91 non-null     float64\n",
      " 43  SH.DYN.MORT.FE     179 non-null    float64\n",
      " 44  SH.DYN.MORT.MA     179 non-null    float64\n",
      " 45  SH.DYN.NMRT        179 non-null    float64\n",
      " 46  SP.DYN.IMRT.FE.IN  179 non-null    float64\n",
      " 47  SP.DYN.IMRT.IN     179 non-null    float64\n",
      " 48  SP.DYN.IMRT.MA.IN  179 non-null    float64\n",
      " 49  SH.MMR.RISK.ZS     179 non-null    float64\n",
      " 50  SH.MMR.RISK.PB     179 non-null    float64\n",
      "dtypes: float64(50), object(1)\n",
      "memory usage: 72.7+ KB\n"
     ]
    }
   ],
   "source": [
    "train_set.info()"
   ]
  },
  {
   "cell_type": "code",
   "execution_count": 24,
   "metadata": {},
   "outputs": [
    {
     "data": {
      "text/html": [
       "<div>\n",
       "<style scoped>\n",
       "    .dataframe tbody tr th:only-of-type {\n",
       "        vertical-align: middle;\n",
       "    }\n",
       "\n",
       "    .dataframe tbody tr th {\n",
       "        vertical-align: top;\n",
       "    }\n",
       "\n",
       "    .dataframe thead th {\n",
       "        text-align: right;\n",
       "    }\n",
       "</style>\n",
       "<table border=\"1\" class=\"dataframe\">\n",
       "  <thead>\n",
       "    <tr style=\"text-align: right;\">\n",
       "      <th></th>\n",
       "      <th>SH.PRG.SYPH.ZS</th>\n",
       "      <th>SH.STA.OWAD.FE.ZS</th>\n",
       "      <th>SP.DYN.CBRT.IN</th>\n",
       "      <th>SH.FPL.SATM.ZS</th>\n",
       "      <th>SH.MED.BEDS.ZS</th>\n",
       "      <th>SH.MED.SAOP.P5</th>\n",
       "      <th>SH.MLR.INCD.P3</th>\n",
       "      <th>SH.STA.BRTW.ZS</th>\n",
       "      <th>SP.ADO.TFRT</th>\n",
       "      <th>SH.DYN.AIDS.FE.ZS</th>\n",
       "      <th>...</th>\n",
       "      <th>SH.STA.STNT.ZS</th>\n",
       "      <th>SH.STA.WAST.ZS</th>\n",
       "      <th>SH.DYN.MORT.FE</th>\n",
       "      <th>SH.DYN.MORT.MA</th>\n",
       "      <th>SH.DYN.NMRT</th>\n",
       "      <th>SP.DYN.IMRT.FE.IN</th>\n",
       "      <th>SP.DYN.IMRT.IN</th>\n",
       "      <th>SP.DYN.IMRT.MA.IN</th>\n",
       "      <th>SH.MMR.RISK.ZS</th>\n",
       "      <th>SH.MMR.RISK.PB</th>\n",
       "    </tr>\n",
       "  </thead>\n",
       "  <tbody>\n",
       "    <tr>\n",
       "      <th>count</th>\n",
       "      <td>117.000000</td>\n",
       "      <td>176.000000</td>\n",
       "      <td>179.000000</td>\n",
       "      <td>99.000000</td>\n",
       "      <td>138.000000</td>\n",
       "      <td>155.000000</td>\n",
       "      <td>109.000000</td>\n",
       "      <td>129.000000</td>\n",
       "      <td>179.000000</td>\n",
       "      <td>128.000000</td>\n",
       "      <td>...</td>\n",
       "      <td>103.000000</td>\n",
       "      <td>91.000000</td>\n",
       "      <td>179.000000</td>\n",
       "      <td>179.000000</td>\n",
       "      <td>179.000000</td>\n",
       "      <td>179.000000</td>\n",
       "      <td>179.000000</td>\n",
       "      <td>179.000000</td>\n",
       "      <td>179.000000</td>\n",
       "      <td>179.000000</td>\n",
       "    </tr>\n",
       "    <tr>\n",
       "      <th>mean</th>\n",
       "      <td>1.808396</td>\n",
       "      <td>43.588228</td>\n",
       "      <td>21.579872</td>\n",
       "      <td>51.772458</td>\n",
       "      <td>2.989725</td>\n",
       "      <td>35.003687</td>\n",
       "      <td>89.474153</td>\n",
       "      <td>9.944120</td>\n",
       "      <td>52.728482</td>\n",
       "      <td>37.225343</td>\n",
       "      <td>...</td>\n",
       "      <td>21.047583</td>\n",
       "      <td>5.480484</td>\n",
       "      <td>27.349110</td>\n",
       "      <td>30.277518</td>\n",
       "      <td>13.408561</td>\n",
       "      <td>19.131662</td>\n",
       "      <td>22.942195</td>\n",
       "      <td>23.480877</td>\n",
       "      <td>0.816051</td>\n",
       "      <td>0.190056</td>\n",
       "    </tr>\n",
       "    <tr>\n",
       "      <th>std</th>\n",
       "      <td>1.889704</td>\n",
       "      <td>13.434983</td>\n",
       "      <td>10.413999</td>\n",
       "      <td>22.913139</td>\n",
       "      <td>2.377206</td>\n",
       "      <td>36.700621</td>\n",
       "      <td>128.819174</td>\n",
       "      <td>4.339353</td>\n",
       "      <td>41.639421</td>\n",
       "      <td>15.595435</td>\n",
       "      <td>...</td>\n",
       "      <td>13.103413</td>\n",
       "      <td>4.450461</td>\n",
       "      <td>27.498572</td>\n",
       "      <td>29.329145</td>\n",
       "      <td>10.341626</td>\n",
       "      <td>17.071701</td>\n",
       "      <td>19.482917</td>\n",
       "      <td>20.899411</td>\n",
       "      <td>1.326941</td>\n",
       "      <td>0.245960</td>\n",
       "    </tr>\n",
       "    <tr>\n",
       "      <th>min</th>\n",
       "      <td>0.100000</td>\n",
       "      <td>16.883333</td>\n",
       "      <td>6.187500</td>\n",
       "      <td>1.000000</td>\n",
       "      <td>0.300000</td>\n",
       "      <td>0.160000</td>\n",
       "      <td>0.039811</td>\n",
       "      <td>3.332109</td>\n",
       "      <td>0.304250</td>\n",
       "      <td>9.462500</td>\n",
       "      <td>...</td>\n",
       "      <td>1.000000</td>\n",
       "      <td>0.400000</td>\n",
       "      <td>1.250000</td>\n",
       "      <td>1.900000</td>\n",
       "      <td>0.937500</td>\n",
       "      <td>1.350000</td>\n",
       "      <td>1.525000</td>\n",
       "      <td>1.000000</td>\n",
       "      <td>0.002438</td>\n",
       "      <td>0.001784</td>\n",
       "    </tr>\n",
       "    <tr>\n",
       "      <th>25%</th>\n",
       "      <td>0.575000</td>\n",
       "      <td>32.527387</td>\n",
       "      <td>12.193908</td>\n",
       "      <td>34.066817</td>\n",
       "      <td>1.280318</td>\n",
       "      <td>3.251326</td>\n",
       "      <td>1.000000</td>\n",
       "      <td>6.940276</td>\n",
       "      <td>19.416013</td>\n",
       "      <td>26.465625</td>\n",
       "      <td>...</td>\n",
       "      <td>9.775000</td>\n",
       "      <td>2.150000</td>\n",
       "      <td>6.825000</td>\n",
       "      <td>7.550000</td>\n",
       "      <td>4.143750</td>\n",
       "      <td>5.750000</td>\n",
       "      <td>6.831250</td>\n",
       "      <td>6.875000</td>\n",
       "      <td>0.033876</td>\n",
       "      <td>0.018219</td>\n",
       "    </tr>\n",
       "    <tr>\n",
       "      <th>50%</th>\n",
       "      <td>1.100000</td>\n",
       "      <td>44.766667</td>\n",
       "      <td>19.696625</td>\n",
       "      <td>52.759248</td>\n",
       "      <td>2.405455</td>\n",
       "      <td>20.450297</td>\n",
       "      <td>11.493040</td>\n",
       "      <td>8.742405</td>\n",
       "      <td>44.039903</td>\n",
       "      <td>34.644716</td>\n",
       "      <td>...</td>\n",
       "      <td>20.350000</td>\n",
       "      <td>4.200000</td>\n",
       "      <td>15.400000</td>\n",
       "      <td>18.400230</td>\n",
       "      <td>10.150000</td>\n",
       "      <td>13.100000</td>\n",
       "      <td>15.825000</td>\n",
       "      <td>15.950000</td>\n",
       "      <td>0.169925</td>\n",
       "      <td>0.072582</td>\n",
       "    </tr>\n",
       "    <tr>\n",
       "      <th>75%</th>\n",
       "      <td>2.225000</td>\n",
       "      <td>54.229167</td>\n",
       "      <td>29.498813</td>\n",
       "      <td>71.491022</td>\n",
       "      <td>3.756250</td>\n",
       "      <td>61.277500</td>\n",
       "      <td>179.971070</td>\n",
       "      <td>12.488336</td>\n",
       "      <td>74.946412</td>\n",
       "      <td>52.250000</td>\n",
       "      <td>...</td>\n",
       "      <td>31.158333</td>\n",
       "      <td>6.975000</td>\n",
       "      <td>41.775000</td>\n",
       "      <td>45.925000</td>\n",
       "      <td>21.228132</td>\n",
       "      <td>28.613630</td>\n",
       "      <td>36.154742</td>\n",
       "      <td>36.885063</td>\n",
       "      <td>0.805948</td>\n",
       "      <td>0.261683</td>\n",
       "    </tr>\n",
       "    <tr>\n",
       "      <th>max</th>\n",
       "      <td>11.650000</td>\n",
       "      <td>68.016667</td>\n",
       "      <td>47.736875</td>\n",
       "      <td>92.583730</td>\n",
       "      <td>13.400000</td>\n",
       "      <td>158.446667</td>\n",
       "      <td>448.898308</td>\n",
       "      <td>28.594097</td>\n",
       "      <td>193.484300</td>\n",
       "      <td>72.412500</td>\n",
       "      <td>...</td>\n",
       "      <td>55.900000</td>\n",
       "      <td>21.500000</td>\n",
       "      <td>117.450000</td>\n",
       "      <td>131.450000</td>\n",
       "      <td>43.700000</td>\n",
       "      <td>80.300000</td>\n",
       "      <td>80.387500</td>\n",
       "      <td>85.800000</td>\n",
       "      <td>7.452615</td>\n",
       "      <td>1.220265</td>\n",
       "    </tr>\n",
       "  </tbody>\n",
       "</table>\n",
       "<p>8 rows × 50 columns</p>\n",
       "</div>"
      ],
      "text/plain": [
       "       SH.PRG.SYPH.ZS  SH.STA.OWAD.FE.ZS  SP.DYN.CBRT.IN  SH.FPL.SATM.ZS  \\\n",
       "count      117.000000         176.000000      179.000000       99.000000   \n",
       "mean         1.808396          43.588228       21.579872       51.772458   \n",
       "std          1.889704          13.434983       10.413999       22.913139   \n",
       "min          0.100000          16.883333        6.187500        1.000000   \n",
       "25%          0.575000          32.527387       12.193908       34.066817   \n",
       "50%          1.100000          44.766667       19.696625       52.759248   \n",
       "75%          2.225000          54.229167       29.498813       71.491022   \n",
       "max         11.650000          68.016667       47.736875       92.583730   \n",
       "\n",
       "       SH.MED.BEDS.ZS  SH.MED.SAOP.P5  SH.MLR.INCD.P3  SH.STA.BRTW.ZS  \\\n",
       "count      138.000000      155.000000      109.000000      129.000000   \n",
       "mean         2.989725       35.003687       89.474153        9.944120   \n",
       "std          2.377206       36.700621      128.819174        4.339353   \n",
       "min          0.300000        0.160000        0.039811        3.332109   \n",
       "25%          1.280318        3.251326        1.000000        6.940276   \n",
       "50%          2.405455       20.450297       11.493040        8.742405   \n",
       "75%          3.756250       61.277500      179.971070       12.488336   \n",
       "max         13.400000      158.446667      448.898308       28.594097   \n",
       "\n",
       "       SP.ADO.TFRT  SH.DYN.AIDS.FE.ZS  ...  SH.STA.STNT.ZS  SH.STA.WAST.ZS  \\\n",
       "count   179.000000         128.000000  ...      103.000000       91.000000   \n",
       "mean     52.728482          37.225343  ...       21.047583        5.480484   \n",
       "std      41.639421          15.595435  ...       13.103413        4.450461   \n",
       "min       0.304250           9.462500  ...        1.000000        0.400000   \n",
       "25%      19.416013          26.465625  ...        9.775000        2.150000   \n",
       "50%      44.039903          34.644716  ...       20.350000        4.200000   \n",
       "75%      74.946412          52.250000  ...       31.158333        6.975000   \n",
       "max     193.484300          72.412500  ...       55.900000       21.500000   \n",
       "\n",
       "       SH.DYN.MORT.FE  SH.DYN.MORT.MA  SH.DYN.NMRT  SP.DYN.IMRT.FE.IN  \\\n",
       "count      179.000000      179.000000   179.000000         179.000000   \n",
       "mean        27.349110       30.277518    13.408561          19.131662   \n",
       "std         27.498572       29.329145    10.341626          17.071701   \n",
       "min          1.250000        1.900000     0.937500           1.350000   \n",
       "25%          6.825000        7.550000     4.143750           5.750000   \n",
       "50%         15.400000       18.400230    10.150000          13.100000   \n",
       "75%         41.775000       45.925000    21.228132          28.613630   \n",
       "max        117.450000      131.450000    43.700000          80.300000   \n",
       "\n",
       "       SP.DYN.IMRT.IN  SP.DYN.IMRT.MA.IN  SH.MMR.RISK.ZS  SH.MMR.RISK.PB  \n",
       "count      179.000000         179.000000      179.000000      179.000000  \n",
       "mean        22.942195          23.480877        0.816051        0.190056  \n",
       "std         19.482917          20.899411        1.326941        0.245960  \n",
       "min          1.525000           1.000000        0.002438        0.001784  \n",
       "25%          6.831250           6.875000        0.033876        0.018219  \n",
       "50%         15.825000          15.950000        0.169925        0.072582  \n",
       "75%         36.154742          36.885063        0.805948        0.261683  \n",
       "max         80.387500          85.800000        7.452615        1.220265  \n",
       "\n",
       "[8 rows x 50 columns]"
      ]
     },
     "execution_count": 24,
     "metadata": {},
     "output_type": "execute_result"
    }
   ],
   "source": [
    "train_set.describe()"
   ]
  },
  {
   "cell_type": "code",
   "execution_count": 25,
   "metadata": {},
   "outputs": [
    {
     "data": {
      "image/png": "[encoded data removed]",
      "text/plain": [
       "<Figure size 1800x1440 with 56 Axes>"
      ]
     },
     "metadata": {
      "needs_background": "light"
     },
     "output_type": "display_data"
    }
   ],
   "source": [
    "%matplotlib inline\n",
    "import matplotlib.pyplot as plt\n",
    "train_set.hist(figsize=(25,20))\n",
    "plt.show()"
   ]
  },
  {
   "cell_type": "markdown",
   "metadata": {},
   "source": [
    "Scatter plots of dependent variables between each other:"
   ]
  },
  {
   "cell_type": "code",
   "execution_count": 26,
   "metadata": {},
   "outputs": [
    {
     "data": {
      "text/html": [
       "<div>\n",
       "<style scoped>\n",
       "    .dataframe tbody tr th:only-of-type {\n",
       "        vertical-align: middle;\n",
       "    }\n",
       "\n",
       "    .dataframe tbody tr th {\n",
       "        vertical-align: top;\n",
       "    }\n",
       "\n",
       "    .dataframe thead th {\n",
       "        text-align: right;\n",
       "    }\n",
       "</style>\n",
       "<table border=\"1\" class=\"dataframe\">\n",
       "  <thead>\n",
       "    <tr style=\"text-align: right;\">\n",
       "      <th></th>\n",
       "      <th>Unnamed: 0</th>\n",
       "      <th>series_code</th>\n",
       "      <th>topic</th>\n",
       "      <th>indicator_name</th>\n",
       "      <th>short_definition</th>\n",
       "    </tr>\n",
       "  </thead>\n",
       "  <tbody>\n",
       "    <tr>\n",
       "      <th>282</th>\n",
       "      <td>282.0</td>\n",
       "      <td>SH.MMR.RISK.ZS</td>\n",
       "      <td>Health: \"Reproductive health</td>\n",
       "      <td>Lifetime risk of maternal death (%)\"</td>\n",
       "      <td>NaN</td>\n",
       "    </tr>\n",
       "  </tbody>\n",
       "</table>\n",
       "</div>"
      ],
      "text/plain": [
       "     Unnamed: 0     series_code                         topic  \\\n",
       "282       282.0  SH.MMR.RISK.ZS  Health: \"Reproductive health   \n",
       "\n",
       "                           indicator_name short_definition  \n",
       "282  Lifetime risk of maternal death (%)\"              NaN  "
      ]
     },
     "execution_count": 26,
     "metadata": {},
     "output_type": "execute_result"
    }
   ],
   "source": [
    "indicator_codes[indicator_codes['series_code'] == \"SH.MMR.RISK.ZS\"]"
   ]
  },
  {
   "cell_type": "code",
   "execution_count": 27,
   "metadata": {},
   "outputs": [
    {
     "data": {
      "text/html": [
       "<div>\n",
       "<style scoped>\n",
       "    .dataframe tbody tr th:only-of-type {\n",
       "        vertical-align: middle;\n",
       "    }\n",
       "\n",
       "    .dataframe tbody tr th {\n",
       "        vertical-align: top;\n",
       "    }\n",
       "\n",
       "    .dataframe thead th {\n",
       "        text-align: right;\n",
       "    }\n",
       "</style>\n",
       "<table border=\"1\" class=\"dataframe\">\n",
       "  <thead>\n",
       "    <tr style=\"text-align: right;\">\n",
       "      <th></th>\n",
       "      <th>Unnamed: 0</th>\n",
       "      <th>series_code</th>\n",
       "      <th>topic</th>\n",
       "      <th>indicator_name</th>\n",
       "      <th>short_definition</th>\n",
       "    </tr>\n",
       "  </thead>\n",
       "  <tbody>\n",
       "    <tr>\n",
       "      <th>278</th>\n",
       "      <td>278.0</td>\n",
       "      <td>SP.DYN.IMRT.IN</td>\n",
       "      <td>Health: Mortality</td>\n",
       "      <td>Mortality rate, infant (per 1,000 live births)</td>\n",
       "      <td>NaN</td>\n",
       "    </tr>\n",
       "  </tbody>\n",
       "</table>\n",
       "</div>"
      ],
      "text/plain": [
       "     Unnamed: 0     series_code              topic  \\\n",
       "278       278.0  SP.DYN.IMRT.IN  Health: Mortality   \n",
       "\n",
       "                                     indicator_name short_definition  \n",
       "278  Mortality rate, infant (per 1,000 live births)              NaN  "
      ]
     },
     "execution_count": 27,
     "metadata": {},
     "output_type": "execute_result"
    }
   ],
   "source": [
    "indicator_codes[indicator_codes['series_code'] == \"SP.DYN.IMRT.IN\"]"
   ]
  },
  {
   "cell_type": "code",
   "execution_count": 28,
   "metadata": {},
   "outputs": [
    {
     "data": {
      "text/plain": [
       "<matplotlib.axes._subplots.AxesSubplot at 0x7f4651914be0>"
      ]
     },
     "execution_count": 28,
     "metadata": {},
     "output_type": "execute_result"
    },
    {
     "data": {
      "image/png": "[encoded data removed]",
      "text/plain": [
       "<Figure size 432x288 with 1 Axes>"
      ]
     },
     "metadata": {
      "needs_background": "light"
     },
     "output_type": "display_data"
    }
   ],
   "source": [
    "train_set.plot(kind=\"scatter\", x=\"SH.MMR.RISK.ZS\", y=\"SP.DYN.IMRT.IN\", alpha=0.3)"
   ]
  },
  {
   "cell_type": "code",
   "execution_count": 29,
   "metadata": {},
   "outputs": [
    {
     "data": {
      "text/html": [
       "<div>\n",
       "<style scoped>\n",
       "    .dataframe tbody tr th:only-of-type {\n",
       "        vertical-align: middle;\n",
       "    }\n",
       "\n",
       "    .dataframe tbody tr th {\n",
       "        vertical-align: top;\n",
       "    }\n",
       "\n",
       "    .dataframe thead th {\n",
       "        text-align: right;\n",
       "    }\n",
       "</style>\n",
       "<table border=\"1\" class=\"dataframe\">\n",
       "  <thead>\n",
       "    <tr style=\"text-align: right;\">\n",
       "      <th></th>\n",
       "      <th>Unnamed: 0</th>\n",
       "      <th>series_code</th>\n",
       "      <th>topic</th>\n",
       "      <th>indicator_name</th>\n",
       "      <th>short_definition</th>\n",
       "    </tr>\n",
       "  </thead>\n",
       "  <tbody>\n",
       "    <tr>\n",
       "      <th>271</th>\n",
       "      <td>271.0</td>\n",
       "      <td>SH.DYN.NMRT</td>\n",
       "      <td>Health: Mortality</td>\n",
       "      <td>Mortality rate, neonatal (per 1,000 live births)</td>\n",
       "      <td>NaN</td>\n",
       "    </tr>\n",
       "  </tbody>\n",
       "</table>\n",
       "</div>"
      ],
      "text/plain": [
       "     Unnamed: 0  series_code              topic  \\\n",
       "271       271.0  SH.DYN.NMRT  Health: Mortality   \n",
       "\n",
       "                                       indicator_name short_definition  \n",
       "271  Mortality rate, neonatal (per 1,000 live births)              NaN  "
      ]
     },
     "execution_count": 29,
     "metadata": {},
     "output_type": "execute_result"
    }
   ],
   "source": [
    "indicator_codes[indicator_codes['series_code'] == \"SH.DYN.NMRT\"]"
   ]
  },
  {
   "cell_type": "code",
   "execution_count": 30,
   "metadata": {},
   "outputs": [
    {
     "data": {
      "text/plain": [
       "<matplotlib.axes._subplots.AxesSubplot at 0x7f464e501780>"
      ]
     },
     "execution_count": 30,
     "metadata": {},
     "output_type": "execute_result"
    },
    {
     "data": {
      "image/png": "[encoded data removed]",
      "text/plain": [
       "<Figure size 432x288 with 1 Axes>"
      ]
     },
     "metadata": {
      "needs_background": "light"
     },
     "output_type": "display_data"
    }
   ],
   "source": [
    "train_set.plot(kind=\"scatter\", x=\"SP.DYN.IMRT.IN\", y=\"SH.DYN.NMRT\", alpha=0.3)"
   ]
  },
  {
   "cell_type": "markdown",
   "metadata": {},
   "source": [
    "Some countries show gender disparity in child mortality rate:"
   ]
  },
  {
   "cell_type": "code",
   "execution_count": 31,
   "metadata": {},
   "outputs": [
    {
     "data": {
      "text/plain": [
       "<matplotlib.axes._subplots.AxesSubplot at 0x7f464e4bb630>"
      ]
     },
     "execution_count": 31,
     "metadata": {},
     "output_type": "execute_result"
    },
    {
     "data": {
      "image/png": "[encoded data removed]",
      "text/plain": [
       "<Figure size 432x288 with 1 Axes>"
      ]
     },
     "metadata": {
      "needs_background": "light"
     },
     "output_type": "display_data"
    }
   ],
   "source": [
    "train_set.plot(kind=\"scatter\", x=\"SH.DYN.MORT.FE\", y=\"SH.DYN.MORT.MA\", alpha=0.3)"
   ]
  },
  {
   "cell_type": "markdown",
   "metadata": {},
   "source": [
    "This is also seen in infant mortality rate:"
   ]
  },
  {
   "cell_type": "code",
   "execution_count": 33,
   "metadata": {},
   "outputs": [
    {
     "data": {
      "text/plain": [
       "<matplotlib.axes._subplots.AxesSubplot at 0x7f464e47cc18>"
      ]
     },
     "execution_count": 33,
     "metadata": {},
     "output_type": "execute_result"
    },
    {
     "data": {
      "image/png": "[encoded data removed]",
      "text/plain": [
       "<Figure size 432x288 with 1 Axes>"
      ]
     },
     "metadata": {
      "needs_background": "light"
     },
     "output_type": "display_data"
    }
   ],
   "source": [
    "train_set.plot(kind=\"scatter\", x=\"SP.DYN.IMRT.FE.IN\", y=\"SP.DYN.IMRT.MA.IN\", alpha=0.3)"
   ]
  },
  {
   "cell_type": "code",
   "execution_count": 34,
   "metadata": {},
   "outputs": [
    {
     "data": {
      "text/plain": [
       "109                   Mauritius\n",
       "31                      Ukraine\n",
       "28                   Mauritania\n",
       "42                 Burkina Faso\n",
       "152                    Djibouti\n",
       "78                    Indonesia\n",
       "46                        India\n",
       "22                     Colombia\n",
       "194                  Low income\n",
       "39        Sao Tome and Principe\n",
       "3      Central African Republic\n",
       "207                       World\n",
       "34                         Iraq\n",
       "8                        Mexico\n",
       "52                    Nicaragua\n",
       "Name: Country_Name, dtype: object"
      ]
     },
     "execution_count": 34,
     "metadata": {},
     "output_type": "execute_result"
    }
   ],
   "source": [
    "train_set[train_set[\"SP.DYN.IMRT.MA.IN\"]/train_set[\"SP.DYN.IMRT.FE.IN\"] < 2/3.][\"Country_Name\"]"
   ]
  },
  {
   "cell_type": "code",
   "execution_count": 35,
   "metadata": {},
   "outputs": [
    {
     "data": {
      "text/plain": [
       "66                 Kiribati\n",
       "119               Argentina\n",
       "95                  Lesotho\n",
       "29                 Cambodia\n",
       "56          Solomon Islands\n",
       "155               Singapore\n",
       "178                  Norway\n",
       "51                  Eritrea\n",
       "0         Brunei Darussalam\n",
       "90                    Gabon\n",
       "176                 Ireland\n",
       "126                 Jamaica\n",
       "201              South Asia\n",
       "172               Australia\n",
       "150             Netherlands\n",
       "81                  Moldova\n",
       "145                  Canada\n",
       "53         Congo, Dem. Rep.\n",
       "173                   Japan\n",
       "49        Equatorial Guinea\n",
       "80                  Liberia\n",
       "89               Cabo Verde\n",
       "72               Uzbekistan\n",
       "54                 Zimbabwe\n",
       "88                 Pakistan\n",
       "37               Mozambique\n",
       "130    United Arab Emirates\n",
       "151                  Sweden\n",
       "99       Iran, Islamic Rep.\n",
       "116               Lithuania\n",
       "87            Venezuela, RB\n",
       "14              Gambia, The\n",
       "102                    Peru\n",
       "Name: Country_Name, dtype: object"
      ]
     },
     "execution_count": 35,
     "metadata": {},
     "output_type": "execute_result"
    }
   ],
   "source": [
    "train_set[train_set[\"SP.DYN.IMRT.MA.IN\"]/train_set[\"SP.DYN.IMRT.FE.IN\"] > 4/3.][\"Country_Name\"]"
   ]
  },
  {
   "cell_type": "markdown",
   "metadata": {},
   "source": [
    "Scatter plots of dependent variables vs selected independent variables show expected trends:"
   ]
  },
  {
   "cell_type": "code",
   "execution_count": 36,
   "metadata": {},
   "outputs": [
    {
     "data": {
      "text/html": [
       "<div>\n",
       "<style scoped>\n",
       "    .dataframe tbody tr th:only-of-type {\n",
       "        vertical-align: middle;\n",
       "    }\n",
       "\n",
       "    .dataframe tbody tr th {\n",
       "        vertical-align: top;\n",
       "    }\n",
       "\n",
       "    .dataframe thead th {\n",
       "        text-align: right;\n",
       "    }\n",
       "</style>\n",
       "<table border=\"1\" class=\"dataframe\">\n",
       "  <thead>\n",
       "    <tr style=\"text-align: right;\">\n",
       "      <th></th>\n",
       "      <th>Unnamed: 0</th>\n",
       "      <th>series_code</th>\n",
       "      <th>topic</th>\n",
       "      <th>indicator_name</th>\n",
       "      <th>short_definition</th>\n",
       "    </tr>\n",
       "  </thead>\n",
       "  <tbody>\n",
       "    <tr>\n",
       "      <th>78</th>\n",
       "      <td>78.0</td>\n",
       "      <td>SE.ADT.LITR.ZS</td>\n",
       "      <td>Education: Outcomes</td>\n",
       "      <td>Literacy rate, adult total (% of people ages 1...</td>\n",
       "      <td>NaN</td>\n",
       "    </tr>\n",
       "  </tbody>\n",
       "</table>\n",
       "</div>"
      ],
      "text/plain": [
       "    Unnamed: 0     series_code                topic  \\\n",
       "78        78.0  SE.ADT.LITR.ZS  Education: Outcomes   \n",
       "\n",
       "                                       indicator_name short_definition  \n",
       "78  Literacy rate, adult total (% of people ages 1...              NaN  "
      ]
     },
     "execution_count": 36,
     "metadata": {},
     "output_type": "execute_result"
    }
   ],
   "source": [
    "indicator_codes[indicator_codes[\"series_code\"] == \"SE.ADT.LITR.ZS\"]"
   ]
  },
  {
   "cell_type": "code",
   "execution_count": 37,
   "metadata": {},
   "outputs": [
    {
     "data": {
      "text/plain": [
       "<matplotlib.axes._subplots.AxesSubplot at 0x7f464e3f2ac8>"
      ]
     },
     "execution_count": 37,
     "metadata": {},
     "output_type": "execute_result"
    },
    {
     "data": {
      "image/png": "[encoded data removed]",
      "text/plain": [
       "<Figure size 432x288 with 1 Axes>"
      ]
     },
     "metadata": {
      "needs_background": "light"
     },
     "output_type": "display_data"
    }
   ],
   "source": [
    "train_set.plot(kind=\"scatter\", x=\"SH.MMR.RISK.PB\", y=\"SE.ADT.LITR.ZS\", alpha=0.3)"
   ]
  },
  {
   "cell_type": "code",
   "execution_count": 38,
   "metadata": {},
   "outputs": [
    {
     "data": {
      "text/html": [
       "<div>\n",
       "<style scoped>\n",
       "    .dataframe tbody tr th:only-of-type {\n",
       "        vertical-align: middle;\n",
       "    }\n",
       "\n",
       "    .dataframe tbody tr th {\n",
       "        vertical-align: top;\n",
       "    }\n",
       "\n",
       "    .dataframe thead th {\n",
       "        text-align: right;\n",
       "    }\n",
       "</style>\n",
       "<table border=\"1\" class=\"dataframe\">\n",
       "  <thead>\n",
       "    <tr style=\"text-align: right;\">\n",
       "      <th></th>\n",
       "      <th>Unnamed: 0</th>\n",
       "      <th>series_code</th>\n",
       "      <th>topic</th>\n",
       "      <th>indicator_name</th>\n",
       "      <th>short_definition</th>\n",
       "    </tr>\n",
       "  </thead>\n",
       "  <tbody>\n",
       "    <tr>\n",
       "      <th>95</th>\n",
       "      <td>95.0</td>\n",
       "      <td>SE.TER.ENRR.FE</td>\n",
       "      <td>Education: Participation</td>\n",
       "      <td>School enrollment, tertiary, female (% gross)</td>\n",
       "      <td>NaN</td>\n",
       "    </tr>\n",
       "  </tbody>\n",
       "</table>\n",
       "</div>"
      ],
      "text/plain": [
       "    Unnamed: 0     series_code                     topic  \\\n",
       "95        95.0  SE.TER.ENRR.FE  Education: Participation   \n",
       "\n",
       "                                   indicator_name short_definition  \n",
       "95  School enrollment, tertiary, female (% gross)              NaN  "
      ]
     },
     "execution_count": 38,
     "metadata": {},
     "output_type": "execute_result"
    }
   ],
   "source": [
    "indicator_codes[indicator_codes[\"series_code\"] == \"SE.TER.ENRR.FE\"]"
   ]
  },
  {
   "cell_type": "code",
   "execution_count": 39,
   "metadata": {},
   "outputs": [
    {
     "data": {
      "text/plain": [
       "<matplotlib.axes._subplots.AxesSubplot at 0x7f464e3e8dd8>"
      ]
     },
     "execution_count": 39,
     "metadata": {},
     "output_type": "execute_result"
    },
    {
     "data": {
      "image/png": "[encoded data removed]",
      "text/plain": [
       "<Figure size 432x288 with 1 Axes>"
      ]
     },
     "metadata": {
      "needs_background": "light"
     },
     "output_type": "display_data"
    }
   ],
   "source": [
    "train_set.plot(kind=\"scatter\", x=\"SH.MMR.RISK.PB\", y=\"SE.TER.ENRR.FE\", alpha=0.3)"
   ]
  },
  {
   "cell_type": "code",
   "execution_count": 40,
   "metadata": {},
   "outputs": [
    {
     "data": {
      "text/html": [
       "<div>\n",
       "<style scoped>\n",
       "    .dataframe tbody tr th:only-of-type {\n",
       "        vertical-align: middle;\n",
       "    }\n",
       "\n",
       "    .dataframe tbody tr th {\n",
       "        vertical-align: top;\n",
       "    }\n",
       "\n",
       "    .dataframe thead th {\n",
       "        text-align: right;\n",
       "    }\n",
       "</style>\n",
       "<table border=\"1\" class=\"dataframe\">\n",
       "  <thead>\n",
       "    <tr style=\"text-align: right;\">\n",
       "      <th></th>\n",
       "      <th>Unnamed: 0</th>\n",
       "      <th>series_code</th>\n",
       "      <th>topic</th>\n",
       "      <th>indicator_name</th>\n",
       "      <th>short_definition</th>\n",
       "    </tr>\n",
       "  </thead>\n",
       "  <tbody>\n",
       "    <tr>\n",
       "      <th>117</th>\n",
       "      <td>117.0</td>\n",
       "      <td>SH.STA.ANV4.ZS</td>\n",
       "      <td>Health: Reproductive health</td>\n",
       "      <td>Pregnant women receiving prenatal care of at l...</td>\n",
       "      <td>NaN</td>\n",
       "    </tr>\n",
       "  </tbody>\n",
       "</table>\n",
       "</div>"
      ],
      "text/plain": [
       "     Unnamed: 0     series_code                        topic  \\\n",
       "117       117.0  SH.STA.ANV4.ZS  Health: Reproductive health   \n",
       "\n",
       "                                        indicator_name short_definition  \n",
       "117  Pregnant women receiving prenatal care of at l...              NaN  "
      ]
     },
     "execution_count": 40,
     "metadata": {},
     "output_type": "execute_result"
    }
   ],
   "source": [
    "indicator_codes[indicator_codes[\"series_code\"] == \"SH.STA.ANV4.ZS\"]"
   ]
  },
  {
   "cell_type": "code",
   "execution_count": 41,
   "metadata": {},
   "outputs": [
    {
     "data": {
      "text/plain": [
       "<matplotlib.axes._subplots.AxesSubplot at 0x7f464c9f1e80>"
      ]
     },
     "execution_count": 41,
     "metadata": {},
     "output_type": "execute_result"
    },
    {
     "data": {
      "image/png": "[encoded data removed]",
      "text/plain": [
       "<Figure size 432x288 with 1 Axes>"
      ]
     },
     "metadata": {
      "needs_background": "light"
     },
     "output_type": "display_data"
    }
   ],
   "source": [
    "train_set.plot(kind=\"scatter\", x=\"SH.MMR.RISK.PB\", y=\"SH.STA.ANV4.ZS\", alpha=0.3)"
   ]
  },
  {
   "cell_type": "markdown",
   "metadata": {},
   "source": [
    "Calculate correlations coefficients of independent variables with per-birth maternal mortality risk:"
   ]
  },
  {
   "cell_type": "code",
   "execution_count": 42,
   "metadata": {},
   "outputs": [
    {
     "data": {
      "text/plain": [
       "SE.SEC.NENR.FE      -0.845026\n",
       "SE.ADT.LITR.ZS      -0.842730\n",
       "SE.ADT.LITR.FE.ZS   -0.822202\n",
       "SH.STA.BASS.ZS      -0.757396\n",
       "SE.TER.ENRR.FE      -0.689883\n",
       "SH.MED.PHYS.ZS      -0.653618\n",
       "SH.MED.SAOP.P5      -0.575173\n",
       "SH.STA.OWGH.ZS      -0.493402\n",
       "SH.PRV.SMOK.FE      -0.477218\n",
       "SH.STA.OWAD.FE.ZS   -0.465869\n",
       "SH.STA.ANV4.ZS      -0.462680\n",
       "SH.MED.BEDS.ZS      -0.436043\n",
       "SH.STA.BRTC.ZS      -0.346697\n",
       "SH.TBS.INCD         -0.312561\n",
       "SH.PRV.SMOK.MA      -0.294835\n",
       "SH.FPL.SATM.ZS      -0.289327\n",
       "SH.ALC.PCAP.FE.LI   -0.288664\n",
       "SH.MED.NUMW.P3      -0.247198\n",
       "SH.STA.ANVC.ZS      -0.173145\n",
       "SL.UEM.TOTL.FE.ZS   -0.150885\n",
       "SP.DYN.SMAM.FE      -0.112927\n",
       "SH.STA.BFED.ZS       0.053283\n",
       "SL.TLF.TOTL.FE.ZS    0.173179\n",
       "SH.STA.WAST.ZS       0.255299\n",
       "SH.HIV.1524.FE.ZS    0.276167\n",
       "SP.UWT.TFRT          0.401973\n",
       "SH.STA.MALN.ZS       0.471609\n",
       "SH.PRG.SYPH.ZS       0.526317\n",
       "SP.RUR.TOTL.ZS       0.549387\n",
       "SH.PRG.ANEM          0.577179\n",
       "SH.STA.STNT.ZS       0.582118\n",
       "SH.STA.BRTW.ZS       0.610377\n",
       "SN.ITK.DEFC.ZS       0.662966\n",
       "SH.STA.ODFC.ZS       0.671933\n",
       "SH.MLR.INCD.P3       0.673095\n",
       "SH.DYN.AIDS.FE.ZS    0.712006\n",
       "SP.ADO.TFRT          0.749022\n",
       "SH.SGR.IRSK.ZS       0.782174\n",
       "SH.ANM.CHLD.ZS       0.793259\n",
       "SP.DYN.CBRT.IN       0.799632\n",
       "SP.DYN.TFRT.IN       0.819069\n",
       "SP.DYN.IMRT.MA.IN    0.843941\n",
       "SH.DYN.NMRT          0.847256\n",
       "SH.STA.WASH.P5       0.862340\n",
       "SP.DYN.IMRT.IN       0.865990\n",
       "SH.DYN.MORT.MA       0.868266\n",
       "SP.DYN.IMRT.FE.IN    0.871799\n",
       "SH.DYN.MORT.FE       0.898685\n",
       "SH.MMR.RISK.ZS       0.973719\n",
       "SH.MMR.RISK.PB       1.000000\n",
       "Name: SH.MMR.RISK.PB, dtype: float64"
      ]
     },
     "execution_count": 42,
     "metadata": {},
     "output_type": "execute_result"
    }
   ],
   "source": [
    "train_set.corr()[\"SH.MMR.RISK.PB\"].sort_values(ascending=True)"
   ]
  },
  {
   "cell_type": "markdown",
   "metadata": {},
   "source": [
    "Split independent and dependent variable:"
   ]
  },
  {
   "cell_type": "code",
   "execution_count": 43,
   "metadata": {},
   "outputs": [],
   "source": [
    "train_labels = train_set[['SP.DYN.IMRT.IN','SH.DYN.MORT.MA','SH.DYN.MORT.FE','SP.DYN.IMRT.MA.IN',\n",
    "                          'SP.DYN.IMRT.FE.IN','SH.DYN.NMRT','SH.MMR.RISK.ZS','SH.MMR.RISK.PB']].copy()\n",
    "\n",
    "test_labels = test_set[['SP.DYN.IMRT.IN','SH.DYN.MORT.MA','SH.DYN.MORT.FE','SP.DYN.IMRT.MA.IN',\n",
    "                          'SP.DYN.IMRT.FE.IN','SH.DYN.NMRT','SH.MMR.RISK.ZS','SH.MMR.RISK.PB']].copy()\n",
    "\n",
    "train_set_num = train_set.drop('Country_Name', axis=1)\n",
    "\n",
    "train_set_num = train_set_num.drop(['SP.DYN.IMRT.IN','SH.DYN.MORT.MA','SH.DYN.MORT.FE','SP.DYN.IMRT.MA.IN',\n",
    "                          'SP.DYN.IMRT.FE.IN','SH.DYN.NMRT','SH.MMR.RISK.ZS','SH.MMR.RISK.PB'], axis=1)"
   ]
  },
  {
   "cell_type": "code",
   "execution_count": 44,
   "metadata": {},
   "outputs": [
    {
     "data": {
      "text/plain": [
       "0"
      ]
     },
     "execution_count": 44,
     "metadata": {},
     "output_type": "execute_result"
    }
   ],
   "source": [
    "train_labels.isna().sum().sum()"
   ]
  },
  {
   "cell_type": "markdown",
   "metadata": {},
   "source": [
    "Make a pipeline with a median imputer, train a random forest and calculate mean squared error for entire training set:"
   ]
  },
  {
   "cell_type": "code",
   "execution_count": 45,
   "metadata": {},
   "outputs": [],
   "source": [
    "from sklearn.pipeline import Pipeline\n",
    "from sklearn.compose import ColumnTransformer # put different columns through different pipelines\n",
    "from sklearn.impute import SimpleImputer # impute mean, median or constant to slots missing data\n",
    "from sklearn.preprocessing import StandardScaler # scale to unit mean and variance\n",
    "\n",
    "num_attribs = list(train_set_num)\n",
    "#cat_attribs = \n",
    "#other_attribs = \n",
    "\n",
    "num_simple_pipeline = Pipeline([\n",
    "        ('med_imputer', SimpleImputer(strategy=\"median\")),\n",
    "        ('std_scaler', StandardScaler()),\n",
    "        ])\n",
    "#cat_pipeline = one-hot encoding, etc.\n",
    "\n",
    "simple_pipeline = ColumnTransformer([(\"num\",num_simple_pipeline, num_attribs),\n",
    "                                   #(\"cat\", cat_pipeline, cat_attribs), \n",
    "                                   #(\"dontouchit\",\"passthrough\",other_attribs),\n",
    "                                   ])\n",
    "\n",
    "train_simple = simple_pipeline.fit_transform(train_set)"
   ]
  },
  {
   "cell_type": "code",
   "execution_count": 46,
   "metadata": {},
   "outputs": [
    {
     "data": {
      "text/plain": [
       "True"
      ]
     },
     "execution_count": 46,
     "metadata": {},
     "output_type": "execute_result"
    }
   ],
   "source": [
    "isinstance(train_simple,np.ndarray)"
   ]
  },
  {
   "cell_type": "code",
   "execution_count": 47,
   "metadata": {},
   "outputs": [
    {
     "data": {
      "text/plain": [
       "(179, 42)"
      ]
     },
     "execution_count": 47,
     "metadata": {},
     "output_type": "execute_result"
    }
   ],
   "source": [
    "np.shape(train_simple)"
   ]
  },
  {
   "cell_type": "code",
   "execution_count": 48,
   "metadata": {},
   "outputs": [
    {
     "data": {
      "text/plain": [
       "True"
      ]
     },
     "execution_count": 48,
     "metadata": {},
     "output_type": "execute_result"
    }
   ],
   "source": [
    "isinstance(train_set,pd.DataFrame)"
   ]
  },
  {
   "cell_type": "code",
   "execution_count": 49,
   "metadata": {},
   "outputs": [
    {
     "data": {
      "text/plain": [
       "(179, 51)"
      ]
     },
     "execution_count": 49,
     "metadata": {},
     "output_type": "execute_result"
    }
   ],
   "source": [
    "np.shape(train_set)"
   ]
  },
  {
   "cell_type": "markdown",
   "metadata": {},
   "source": [
    "Train a random forest regressor:"
   ]
  },
  {
   "cell_type": "code",
   "execution_count": 50,
   "metadata": {},
   "outputs": [
    {
     "data": {
      "text/plain": [
       "RandomForestRegressor(bootstrap=True, ccp_alpha=0.0, criterion='mse',\n",
       "                      max_depth=None, max_features='auto', max_leaf_nodes=None,\n",
       "                      max_samples=None, min_impurity_decrease=0.0,\n",
       "                      min_impurity_split=None, min_samples_leaf=1,\n",
       "                      min_samples_split=2, min_weight_fraction_leaf=0.0,\n",
       "                      n_estimators=128, n_jobs=None, oob_score=False,\n",
       "                      random_state=None, verbose=0, warm_start=False)"
      ]
     },
     "execution_count": 50,
     "metadata": {},
     "output_type": "execute_result"
    }
   ],
   "source": [
    "from sklearn.ensemble import RandomForestRegressor\n",
    "\n",
    "forest_reg = RandomForestRegressor(n_estimators=128, min_samples_split=2, min_samples_leaf=1)\n",
    "forest_reg.fit(train_simple, train_labels)"
   ]
  },
  {
   "cell_type": "code",
   "execution_count": 51,
   "metadata": {},
   "outputs": [
    {
     "data": {
      "text/plain": [
       "3.504620577886576"
      ]
     },
     "execution_count": 51,
     "metadata": {},
     "output_type": "execute_result"
    }
   ],
   "source": [
    "from sklearn.metrics import mean_squared_error\n",
    "\n",
    "forest_predictions = forest_reg.predict(train_simple)\n",
    "forest_rmse = np.sqrt(mean_squared_error(train_labels, forest_predictions))\n",
    "forest_rmse"
   ]
  },
  {
   "cell_type": "code",
   "execution_count": 52,
   "metadata": {},
   "outputs": [
    {
     "data": {
      "text/plain": [
       "(8.871437871558967, 2.6797682148956774)"
      ]
     },
     "execution_count": 52,
     "metadata": {},
     "output_type": "execute_result"
    }
   ],
   "source": [
    "from sklearn.model_selection import cross_val_score\n",
    "\n",
    "forest_scores = cross_val_score(forest_reg, train_simple, train_labels,\n",
    "                                scoring=\"neg_mean_squared_error\", cv=10) \n",
    "forest_rmse_scores = np.sqrt(-forest_scores)\n",
    "forest_rmse_scores.mean(), forest_rmse_scores.std() #mean and standard deviation of the scores of k folds in k-fold cross-validation"
   ]
  },
  {
   "cell_type": "markdown",
   "metadata": {},
   "source": [
    "Make a pipeline with iterative imputer using extra trees regressor and see if it reduces training error:"
   ]
  },
  {
   "cell_type": "code",
   "execution_count": 53,
   "metadata": {},
   "outputs": [],
   "source": [
    "from sklearn.experimental import enable_iterative_imputer\n",
    "from sklearn.impute import IterativeImputer\n",
    "from sklearn.ensemble import ExtraTreesRegressor # Faster than random forests, does not use bootstrap sampling."
   ]
  },
  {
   "cell_type": "code",
   "execution_count": 54,
   "metadata": {},
   "outputs": [
    {
     "name": "stderr",
     "output_type": "stream",
     "text": [
      "/home/vj/anaconda3/lib/python3.7/site-packages/sklearn/impute/_iterative.py:638: ConvergenceWarning: [IterativeImputer] Early stopping criterion not reached.\n",
      "  \" reached.\", ConvergenceWarning)\n"
     ]
    }
   ],
   "source": [
    "num_iterativeimpute_pipeline = Pipeline([\n",
    "        ( 'itr_imputer', IterativeImputer(estimator= ExtraTreesRegressor(n_estimators=16)) ),\n",
    "        ( 'std_scaler', StandardScaler() ),\n",
    "        ])\n",
    "#cat_pipeline = one-hot encoding, etc.\n",
    "\n",
    "iterativeimpute_pipeline = ColumnTransformer([(\"num\",num_iterativeimpute_pipeline, num_attribs),\n",
    "                                   #(\"cat\", cat_pipeline, cat_attribs), \n",
    "                                   #(\"dontouchit\",\"passthrough\",other_attribs),\n",
    "                                   ])\n",
    "\n",
    "train_iterativeimpute = iterativeimpute_pipeline.fit_transform(train_set_num)"
   ]
  },
  {
   "cell_type": "code",
   "execution_count": 55,
   "metadata": {},
   "outputs": [
    {
     "data": {
      "text/plain": [
       "3.504620577886576"
      ]
     },
     "execution_count": 55,
     "metadata": {},
     "output_type": "execute_result"
    }
   ],
   "source": [
    "forest_reg.fit(train_iterativeimpute, train_labels)\n",
    "forest_predictions = forest_reg.predict(train_iterativeimpute)\n",
    "forest_rmse_ = np.sqrt(mean_squared_error(train_labels, forest_predictions))\n",
    "forest_rmse"
   ]
  },
  {
   "cell_type": "code",
   "execution_count": 56,
   "metadata": {},
   "outputs": [
    {
     "data": {
      "text/plain": [
       "(8.844148062180563, 2.565945084855532)"
      ]
     },
     "execution_count": 56,
     "metadata": {},
     "output_type": "execute_result"
    }
   ],
   "source": [
    "from sklearn.model_selection import cross_val_score\n",
    "\n",
    "forest_scores = cross_val_score(forest_reg, train_iterativeimpute, train_labels,\n",
    "                                scoring=\"neg_mean_squared_error\", cv=10)\n",
    "forest_rmse_scores = np.sqrt(-forest_scores)\n",
    "forest_rmse_scores.mean(), forest_rmse_scores.std() #mean and standard deviation of scores of the k cross-validation folds"
   ]
  },
  {
   "cell_type": "markdown",
   "metadata": {},
   "source": [
    "Now let's look at important features and select a good predictor subspace. Avoid PCA, LDA, etc because we don't want to sacrifice interpretability by rotating the axes in predictor space.  "
   ]
  },
  {
   "cell_type": "code",
   "execution_count": 57,
   "metadata": {},
   "outputs": [
    {
     "data": {
      "text/plain": [
       "array([1.38250080e-02, 4.06419381e-03, 2.02315724e-02, 1.71142166e-02,\n",
       "       3.16129839e-03, 1.40131524e-02, 4.44473570e-03, 3.44025553e-03,\n",
       "       1.47553976e-02, 7.86849767e-03, 2.67595617e-03, 8.92744858e-05,\n",
       "       8.71559392e-03, 1.53244121e-02, 1.89795962e-01, 5.73301659e-02,\n",
       "       6.40519886e-03, 3.08103182e-03, 2.68149491e-03, 6.80477575e-03,\n",
       "       1.03844506e-02, 4.30933335e-03, 5.36664049e-03, 3.83128694e-03,\n",
       "       4.91142153e-03, 1.69945679e-03, 2.30213693e-03, 2.53472676e-03,\n",
       "       5.11111403e-03, 3.68242277e-01, 4.43087148e-03, 1.69981900e-02,\n",
       "       1.99089709e-03, 5.35421129e-03, 1.15798955e-01, 2.54384419e-03,\n",
       "       2.98907302e-03, 3.23562479e-02, 4.78277182e-03, 2.87920584e-03,\n",
       "       2.53547668e-03, 2.82521742e-03])"
      ]
     },
     "execution_count": 57,
     "metadata": {},
     "output_type": "execute_result"
    }
   ],
   "source": [
    "forest_reg.feature_importances_"
   ]
  },
  {
   "cell_type": "code",
   "execution_count": 59,
   "metadata": {},
   "outputs": [],
   "source": [
    "select_importantcols = []\n",
    "for i in range(len(forest_reg.feature_importances_)):\n",
    "    if (forest_reg.feature_importances_[i] > 6.0e-03):\n",
    "        select_importantcols.append(i+1) #The column index is shifted by 1 because 0th column \"Country_Name\" isn't a feature."
   ]
  },
  {
   "cell_type": "code",
   "execution_count": 60,
   "metadata": {},
   "outputs": [],
   "source": [
    "importantcols_pipeline = ColumnTransformer([(\"num\",num_simple_pipeline, mch.columns[select_importantcols]),\n",
    "                                   #(\"cat\", cat_pipeline, cat_attribs), \n",
    "                                   #(\"dontouchit\",\"passthrough\",other_attribs),\n",
    "                                   ])\n",
    "\n",
    "train_importantcols = importantcols_pipeline.fit_transform(train_set)"
   ]
  },
  {
   "cell_type": "markdown",
   "metadata": {},
   "source": [
    "Unlike RandomForestRegressor, SVR and Linear Regression do not support multi-target regression natively, i.e. they do not refit parameters for each target but instead perform simultaneous regression for multiple outputs. Use the multioutput meta-estimator for these and compare training errors regression methods. "
   ]
  },
  {
   "cell_type": "code",
   "execution_count": 61,
   "metadata": {},
   "outputs": [
    {
     "data": {
      "text/plain": [
       "(3.504620577886576, 6.929170798562845, 7.8704962543989385, 1.4793351206161)"
      ]
     },
     "execution_count": 61,
     "metadata": {},
     "output_type": "execute_result"
    }
   ],
   "source": [
    "from sklearn.multioutput import MultiOutputRegressor\n",
    "from sklearn.linear_model import LinearRegression\n",
    "from sklearn.svm import SVR\n",
    "\n",
    "linear_reg = MultiOutputRegressor(LinearRegression())\n",
    "sv_reg10 = MultiOutputRegressor(SVR(kernel='rbf', degree=3, C=10.)) #Large C --> weak regularization --> hard fitting\n",
    "sv_reg100 = MultiOutputRegressor(SVR(kernel='rbf', degree=3, C=100.)) #Even larger C --> weaker regularization --> harder fitting\n",
    "\n",
    "forest_reg.fit(train_simple, train_labels)\n",
    "forest_rmse_ = np.sqrt(mean_squared_error(train_labels, forest_reg.predict(train_simple)))\n",
    "\n",
    "linear_reg.fit(train_simple, train_labels)\n",
    "linear_reg_rmse = np.sqrt(mean_squared_error(train_labels, linear_reg.predict(train_simple)))\n",
    "\n",
    "sv_reg10.fit(train_simple, train_labels)\n",
    "sv_reg10_rmse = np.sqrt(mean_squared_error(train_labels,sv_reg10.predict(train_simple)))\n",
    "\n",
    "sv_reg100.fit(train_simple, train_labels)\n",
    "sv_reg100_rmse = np.sqrt(mean_squared_error(train_labels, sv_reg100.predict(train_simple)))\n",
    "\n",
    "forest_rmse, linear_reg_rmse, sv_reg10_rmse, sv_reg100_rmse"
   ]
  },
  {
   "cell_type": "markdown",
   "metadata": {},
   "source": [
    "Compare cross validation scores:"
   ]
  },
  {
   "cell_type": "code",
   "execution_count": 62,
   "metadata": {},
   "outputs": [
    {
     "data": {
      "text/plain": [
       "(8.93542883525393, 2.6639408579162174)"
      ]
     },
     "execution_count": 62,
     "metadata": {},
     "output_type": "execute_result"
    }
   ],
   "source": [
    "forest_scores = cross_val_score(forest_reg, train_simple, train_labels,\n",
    "                                scoring=\"neg_mean_squared_error\", cv=10)\n",
    "forest_rmse_scores = np.sqrt(-forest_scores)\n",
    "forest_rmse_scores.mean(), forest_rmse_scores.std() #mean and standard deviation of the scores of k folds in k-fold cross-validation"
   ]
  },
  {
   "cell_type": "code",
   "execution_count": 63,
   "metadata": {},
   "outputs": [
    {
     "data": {
      "text/plain": [
       "(11.200876186386347, 2.624944670204674)"
      ]
     },
     "execution_count": 63,
     "metadata": {},
     "output_type": "execute_result"
    }
   ],
   "source": [
    "linear_scores = cross_val_score(linear_reg, train_simple, train_labels,\n",
    "                                scoring=\"neg_mean_squared_error\", cv=10)\n",
    "linear_rmse_scores = np.sqrt(-linear_scores)\n",
    "linear_rmse_scores.mean(), linear_rmse_scores.std() #mean and standard deviation of the scores of k folds in k-fold cross-validation"
   ]
  },
  {
   "cell_type": "code",
   "execution_count": 64,
   "metadata": {},
   "outputs": [
    {
     "data": {
      "text/plain": [
       "(10.071293468034451, 2.4545320440437055)"
      ]
     },
     "execution_count": 64,
     "metadata": {},
     "output_type": "execute_result"
    }
   ],
   "source": [
    "sv_scores = cross_val_score(sv_reg10, train_simple, train_labels,\n",
    "                                scoring=\"neg_mean_squared_error\", cv=10)\n",
    "sv_rmse_scores = np.sqrt(-sv_scores)\n",
    "sv_rmse_scores.mean(), sv_rmse_scores.std() #mean and standard deviation of the scores of k folds in k-fold cross-validation"
   ]
  },
  {
   "cell_type": "code",
   "execution_count": 65,
   "metadata": {},
   "outputs": [
    {
     "data": {
      "text/plain": [
       "(9.687184772306784, 2.316908484584225)"
      ]
     },
     "execution_count": 65,
     "metadata": {},
     "output_type": "execute_result"
    }
   ],
   "source": [
    "sv_scores = cross_val_score(sv_reg100, train_simple, train_labels,\n",
    "                                scoring=\"neg_mean_squared_error\", cv=10)\n",
    "sv_rmse_scores = np.sqrt(-sv_scores)\n",
    "sv_rmse_scores.mean(), sv_rmse_scores.std() #mean and standard deviation of the scores of k folds in k-fold cross-validation"
   ]
  },
  {
   "cell_type": "code",
   "execution_count": 66,
   "metadata": {},
   "outputs": [],
   "source": [
    "test_simple = simple_pipeline.fit_transform(test_set) #use same data preparation pipeline as was used for training set."
   ]
  },
  {
   "cell_type": "code",
   "execution_count": 67,
   "metadata": {},
   "outputs": [
    {
     "data": {
      "text/plain": [
       "7.267003715852227"
      ]
     },
     "execution_count": 67,
     "metadata": {},
     "output_type": "execute_result"
    }
   ],
   "source": [
    "forest_predictions = forest_reg.predict(test_simple)\n",
    "forest_rmse_simple = np.sqrt(mean_squared_error(test_labels, forest_predictions))\n",
    "forest_rmse_simple"
   ]
  },
  {
   "cell_type": "code",
   "execution_count": 68,
   "metadata": {},
   "outputs": [
    {
     "data": {
      "text/plain": [
       "8.039270198807623"
      ]
     },
     "execution_count": 68,
     "metadata": {},
     "output_type": "execute_result"
    }
   ],
   "source": [
    "linear_reg_predictions = linear_reg.predict(test_simple)\n",
    "linear_reg_rmse = np.sqrt(mean_squared_error(test_labels, linear_reg_predictions))\n",
    "linear_reg_rmse"
   ]
  },
  {
   "cell_type": "code",
   "execution_count": 69,
   "metadata": {},
   "outputs": [
    {
     "data": {
      "text/plain": [
       "8.604129269065622"
      ]
     },
     "execution_count": 69,
     "metadata": {},
     "output_type": "execute_result"
    }
   ],
   "source": [
    "sv_reg10_predictions = sv_reg10.predict(test_simple)\n",
    "sv_reg10_rmse = np.sqrt(mean_squared_error(test_labels, sv_reg10_predictions))\n",
    "sv_reg10_rmse"
   ]
  },
  {
   "cell_type": "code",
   "execution_count": 70,
   "metadata": {},
   "outputs": [
    {
     "data": {
      "text/plain": [
       "7.801843577831305"
      ]
     },
     "execution_count": 70,
     "metadata": {},
     "output_type": "execute_result"
    }
   ],
   "source": [
    "sv_reg100_predictions = sv_reg100.predict(test_simple)\n",
    "sv_reg100_rmse = np.sqrt(mean_squared_error(test_labels, sv_reg100_predictions))\n",
    "sv_reg100_rmse"
   ]
  },
  {
   "cell_type": "code",
   "execution_count": 71,
   "metadata": {},
   "outputs": [
    {
     "name": "stderr",
     "output_type": "stream",
     "text": [
      "/home/vj/anaconda3/lib/python3.7/site-packages/sklearn/base.py:434: FutureWarning: The default value of multioutput (not exposed in score method) will change from 'variance_weighted' to 'uniform_average' in 0.23 to keep consistent with 'metrics.r2_score'. To specify the default value manually and avoid the warning, please either call 'metrics.r2_score' directly or make a custom scorer with 'metrics.make_scorer' (the built-in scorer 'r2' uses multioutput='uniform_average').\n",
      "  \"multioutput='uniform_average').\", FutureWarning)\n"
     ]
    },
    {
     "data": {
      "text/plain": [
       "(0.8323751717860006, 0.7697054136948637, 0.743743954706267, 0.7724264638246496)"
      ]
     },
     "execution_count": 71,
     "metadata": {},
     "output_type": "execute_result"
    }
   ],
   "source": [
    "forest_reg.score(test_simple,test_labels), linear_reg.score(test_simple,test_labels), \\\n",
    "sv_reg10.score(test_simple,test_labels), sv_reg100.score(test_simple,test_labels) #The R^2 scores on test data:"
   ]
  },
  {
   "cell_type": "markdown",
   "metadata": {},
   "source": [
    "Look at  training and cross validation errors for the selected predictor subspace selected by looking at feature importances:"
   ]
  },
  {
   "cell_type": "code",
   "execution_count": 72,
   "metadata": {},
   "outputs": [
    {
     "data": {
      "text/plain": [
       "(3.527153592070255, 7.875646197750743, 7.84213640683215, 2.5671719539033018)"
      ]
     },
     "execution_count": 72,
     "metadata": {},
     "output_type": "execute_result"
    }
   ],
   "source": [
    "forest_reg_importantcols = forest_reg.fit(train_importantcols, train_labels)\n",
    "forest_reg_rmse = np.sqrt(mean_squared_error(train_labels, forest_reg_importantcols.predict(train_importantcols)))\n",
    "\n",
    "linear_reg_importantcols = linear_reg.fit(train_importantcols, train_labels)\n",
    "linear_reg_rmse = np.sqrt(mean_squared_error(train_labels, linear_reg_importantcols.predict(train_importantcols)))\n",
    "\n",
    "sv_reg10_importantcols = sv_reg10.fit(train_importantcols, train_labels)\n",
    "sv_reg10_rmse = np.sqrt(mean_squared_error(train_labels, sv_reg10_importantcols.predict(train_importantcols)))\n",
    "\n",
    "sv_reg100_importantcols = sv_reg100.fit(train_importantcols, train_labels)\n",
    "sv_reg100_rmse = np.sqrt(mean_squared_error(train_labels, sv_reg100_importantcols.predict(train_importantcols)))\n",
    "\n",
    "forest_reg_rmse, linear_reg_rmse, sv_reg10_rmse, sv_reg100_rmse"
   ]
  },
  {
   "cell_type": "code",
   "execution_count": 73,
   "metadata": {},
   "outputs": [
    {
     "data": {
      "text/plain": [
       "(8.673715984279278, 2.62282186827918)"
      ]
     },
     "execution_count": 73,
     "metadata": {},
     "output_type": "execute_result"
    }
   ],
   "source": [
    "forest_scores = cross_val_score(forest_reg_importantcols, train_importantcols, train_labels,\n",
    "                                scoring=\"neg_mean_squared_error\", cv=10)\n",
    "forest_rmse_scores = np.sqrt(-forest_scores)\n",
    "forest_rmse_scores.mean(), forest_rmse_scores.std() #mean and standard deviation of scores of the k cross-validation folds"
   ]
  },
  {
   "cell_type": "code",
   "execution_count": 74,
   "metadata": {},
   "outputs": [
    {
     "data": {
      "text/plain": [
       "(9.25064993275762, 1.7495540478045217)"
      ]
     },
     "execution_count": 74,
     "metadata": {},
     "output_type": "execute_result"
    }
   ],
   "source": [
    "linear_scores = cross_val_score(linear_reg_importantcols, train_importantcols, train_labels,\n",
    "                                scoring=\"neg_mean_squared_error\", cv=10)\n",
    "linear_rmse_scores = np.sqrt(-linear_scores)\n",
    "linear_rmse_scores.mean(), linear_rmse_scores.std() #mean and standard deviation of the scores of k folds in k-fold cross-validation"
   ]
  },
  {
   "cell_type": "code",
   "execution_count": 75,
   "metadata": {},
   "outputs": [
    {
     "data": {
      "text/plain": [
       "(9.615471722093037, 2.599473362330668)"
      ]
     },
     "execution_count": 75,
     "metadata": {},
     "output_type": "execute_result"
    }
   ],
   "source": [
    "sv_scores = cross_val_score(sv_reg10_importantcols, train_importantcols, train_labels,\n",
    "                                scoring=\"neg_mean_squared_error\", cv=10)\n",
    "sv_rmse_scores = np.sqrt(-sv_scores)\n",
    "sv_rmse_scores.mean(), sv_rmse_scores.std() #mean and standard deviation of the scores of k folds in k-fold cross-validation"
   ]
  },
  {
   "cell_type": "code",
   "execution_count": 76,
   "metadata": {},
   "outputs": [
    {
     "data": {
      "text/plain": [
       "(9.376641940068192, 2.106556642692895)"
      ]
     },
     "execution_count": 76,
     "metadata": {},
     "output_type": "execute_result"
    }
   ],
   "source": [
    "sv_scores = cross_val_score(sv_reg100_importantcols, train_importantcols, train_labels,\n",
    "                                scoring=\"neg_mean_squared_error\", cv=10)\n",
    "sv_rmse_scores = np.sqrt(-sv_scores)\n",
    "sv_rmse_scores.mean(), sv_rmse_scores.std() #mean and standard deviation of the scores of k folds in k-fold cross-validation"
   ]
  },
  {
   "cell_type": "markdown",
   "metadata": {},
   "source": [
    "Compare prediction errors for important predictor subspace:"
   ]
  },
  {
   "cell_type": "code",
   "execution_count": 77,
   "metadata": {},
   "outputs": [],
   "source": [
    "test_importantcols = importantcols_pipeline.fit_transform(test_set)"
   ]
  },
  {
   "cell_type": "code",
   "execution_count": 78,
   "metadata": {},
   "outputs": [
    {
     "name": "stderr",
     "output_type": "stream",
     "text": [
      "/home/vj/anaconda3/lib/python3.7/site-packages/sklearn/base.py:434: FutureWarning: The default value of multioutput (not exposed in score method) will change from 'variance_weighted' to 'uniform_average' in 0.23 to keep consistent with 'metrics.r2_score'. To specify the default value manually and avoid the warning, please either call 'metrics.r2_score' directly or make a custom scorer with 'metrics.make_scorer' (the built-in scorer 'r2' uses multioutput='uniform_average').\n",
      "  \"multioutput='uniform_average').\", FutureWarning)\n"
     ]
    },
    {
     "data": {
      "text/plain": [
       "(0.8481661215211199,\n",
       " 0.8416796749396055,\n",
       " 0.7623567053482179,\n",
       " 0.8004186770762332)"
      ]
     },
     "execution_count": 78,
     "metadata": {},
     "output_type": "execute_result"
    }
   ],
   "source": [
    "forest_reg_importantcols.score(test_importantcols,test_labels), \\\n",
    "linear_reg_importantcols.score(test_importantcols,test_labels), \\\n",
    "sv_reg10_importantcols.score(test_importantcols,test_labels),    \\\n",
    "sv_reg100_importantcols.score(test_importantcols,test_labels) #The R^2 scores on test data:"
   ]
  },
  {
   "cell_type": "markdown",
   "metadata": {},
   "source": [
    "RandomForestRegressor slightly outperforms Linear Regression and Support Vector Regressor by a slight margin on training, validation and test data. The selected subspace is more or less as predictive as the full pedictor space considered earlier. The important predictors are:"
   ]
  },
  {
   "cell_type": "code",
   "execution_count": 88,
   "metadata": {},
   "outputs": [
    {
     "name": "stdout",
     "output_type": "stream",
     "text": [
      "1    Prevalence of syphilis (% of women attending a...\n",
      "Name: indicator_name, dtype: object\n",
      "22    Birth rate, crude (per 1,000 people)\n",
      "Name: indicator_name, dtype: object\n",
      "26    Demand for family planning satisfied by modern...\n",
      "Name: indicator_name, dtype: object\n",
      "28    Specialist surgical workforce (per 100,000 pop...\n",
      "Name: indicator_name, dtype: object\n",
      "38    Adolescent fertility rate (births per 1,000 wo...\n",
      "Name: indicator_name, dtype: object\n",
      "46    Women's share of population ages 15+ living wi...\n",
      "Name: indicator_name, dtype: object\n",
      "76    Literacy rate, adult female (% of females ages...\n",
      "Name: indicator_name, dtype: object\n",
      "78    Literacy rate, adult total (% of people ages 1...\n",
      "Name: indicator_name, dtype: object\n",
      "92    School enrollment, secondary, female (% net)\n",
      "Name: indicator_name, dtype: object\n",
      "95    School enrollment, tertiary, female (% gross)\n",
      "Name: indicator_name, dtype: object\n",
      "101    Prevalence of undernourishment (% of population)\n",
      "Name: indicator_name, dtype: object\n",
      "118    Pregnant women receiving prenatal care (%)\n",
      "Name: indicator_name, dtype: object\n",
      "120    Exclusive breastfeeding (% of children under 6...\n",
      "Name: indicator_name, dtype: object\n",
      "182    Mortality rate attributed to unsafe water, uns...\n",
      "Name: indicator_name, dtype: object\n",
      "192    Risk of impoverishing expenditure for surgical...\n",
      "Name: indicator_name, dtype: object\n",
      "262    Prevalence of anemia among children (% of chil...\n",
      "Name: indicator_name, dtype: object\n",
      "331    Fertility rate, total (births per woman)\n",
      "Name: indicator_name, dtype: object\n"
     ]
    }
   ],
   "source": [
    "for string in mch.columns[select_importantcols]:\n",
    "    print(indicator_codes[indicator_codes[\"series_code\"] == string][\"indicator_name\"])"
   ]
  },
  {
   "cell_type": "code",
   "execution_count": null,
   "metadata": {},
   "outputs": [],
   "source": []
  }
 ],
 "metadata": {
  "kernelspec": {
   "display_name": "Python 3",
   "language": "python",
   "name": "python3"
  },
  "language_info": {
   "codemirror_mode": {
    "name": "ipython",
    "version": 3
   },
   "file_extension": ".py",
   "mimetype": "text/x-python",
   "name": "python",
   "nbconvert_exporter": "python",
   "pygments_lexer": "ipython3",
   "version": "3.7.3"
  }
 },
 "nbformat": 4,
 "nbformat_minor": 4
}
